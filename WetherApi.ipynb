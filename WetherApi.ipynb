{
 "cells": [
  {
   "cell_type": "markdown",
   "metadata": {},
   "source": [
    "### this section is for code notes, not important to the notebook"
   ]
  },
  {
   "cell_type": "code",
   "execution_count": 1,
   "metadata": {},
   "outputs": [],
   "source": [
    "#import requests, json, datetime, pandas as pd\n",
    "\n",
    "#unix_date_time = (datetime.datetime.today().strftime(\"%s\"))\n",
    "\n",
    "#response_manchester = requests.get(\"http://api.openweathermap.org/data/2.5/onecall/timemachine?lat=42.9956&lon=-71.4548&dt=\"+ unix_date_time +\"&appid=fd3ef9b217de69f13fde1bd0325da289\")\n",
    "#processed_responce = response_manchester.json()\n",
    "\n",
    "#df = pd.DataFrame(processed_responce['hourly'])\n",
    "#df\n",
    "#df2 = df[[\"dt\",\"temp\", \"humidity\", \"wind_speed\"]].copy()\n",
    "#df.to_csv(r'/home/anthony/Documents/programing-materals/comp574/WetherApiProject/export_dataframe.csv', index = False, header=True)\n",
    "\n",
    "\n",
    "\n",
    "#df2\n",
    "\n",
    "#dict_keys(['lat', 'lon', 'timezone', 'timezone_offset', 'current', 'hourly'])\n"
   ]
  },
  {
   "cell_type": "markdown",
   "metadata": {},
   "source": [
    "## This section starts us off (api query and processing) \n",
    "* This section loops through 5 dates and gets the hrly temp, humidity and wind_speed for 5 days\n",
    "\n",
    "* then it process it into a single large dataframe for processing later"
   ]
  },
  {
   "cell_type": "code",
   "execution_count": 2,
   "metadata": {},
   "outputs": [],
   "source": [
    "'''\n",
    "The new goal of my project is to: calculate the average temp in manchester over the last 5 days and graph it\n",
    "'''\n",
    "# unix time calculator -0> https://www.vultr.com/resources/unix-time-calculator/?convert=date&date_day=27&date_month=10&date_year=2021&date_hour=12&date_minute=00&date_second=00&date_tz_from=UTC&date_tz_to=UTC&date_format=Y-m-d+H%3Ai%3As\n",
    "\n",
    "import requests, json, datetime, pandas as pd\n",
    "\n",
    "df_final = pd.DataFrame(columns=['dt', 'temp', 'humidity', 'wind_speed']) # inititalisation of final dataframe\n",
    "last_5_days = []\n",
    "\n",
    "for x in range(0,5): # gets current date and time delta in unixtime\n",
    "    unix_date_time = (datetime.datetime.today() - datetime.timedelta(x)).strftime(\"%s\") \n",
    "    last_5_days.append(unix_date_time)\n",
    "\n",
    "for day in last_5_days: # gets the json from the api, processes it into a df and appends it to the final frame. ownly takes 4 columbs\n",
    "    response_manchester = requests.get(\"http://api.openweathermap.org/data/2.5/onecall/timemachine?lat=42.9956&lon=-71.4548&dt=\"+ day +\"&appid=fd3ef9b217de69f13fde1bd0325da289\")\n",
    "    \n",
    "    processed_responce = response_manchester.json() # gets json\n",
    "    \n",
    "    df_raw = pd.DataFrame(processed_responce['hourly']) # json -> df from the \"hourly\" list\n",
    "    \n",
    "    df_processed = df_raw[[\"dt\",\"temp\", \"humidity\", \"wind_speed\"]].copy() # cuts df down to what we want ownly\n",
    "    \n",
    "    df_final = df_final.append(df_processed) # appends to the final df\n"
   ]
  },
  {
   "cell_type": "markdown",
   "metadata": {},
   "source": [
    "## This section checks the df.shape\n",
    "\n",
    " * This section just makes shure we have the right number of columbs and rows\n",
    "\n",
    " * hould have (119, 4)"
   ]
  },
  {
   "cell_type": "code",
   "execution_count": 3,
   "metadata": {},
   "outputs": [
    {
     "data": {
      "text/plain": [
       "(98, 4)"
      ]
     },
     "execution_count": 3,
     "metadata": {},
     "output_type": "execute_result"
    }
   ],
   "source": [
    "df_final.shape"
   ]
  },
  {
   "cell_type": "markdown",
   "metadata": {},
   "source": [
    "## this sends df_final to a csv file\n",
    "* thats it, its just a csv file"
   ]
  },
  {
   "cell_type": "code",
   "execution_count": 4,
   "metadata": {},
   "outputs": [],
   "source": [
    "df_final.to_csv(r'/home/anthony/Documents/programing-materals/comp574/DataProject/export_dataframe.csv', index = False, header=True)"
   ]
  },
  {
   "cell_type": "markdown",
   "metadata": {},
   "source": [
    "#### converts the temp into ferinheit and  dt into a readable date in place of a unix time stamp"
   ]
  },
  {
   "cell_type": "code",
   "execution_count": 5,
   "metadata": {},
   "outputs": [
    {
     "data": {
      "text/html": [
       "<div>\n",
       "<style scoped>\n",
       "    .dataframe tbody tr th:only-of-type {\n",
       "        vertical-align: middle;\n",
       "    }\n",
       "\n",
       "    .dataframe tbody tr th {\n",
       "        vertical-align: top;\n",
       "    }\n",
       "\n",
       "    .dataframe thead th {\n",
       "        text-align: right;\n",
       "    }\n",
       "</style>\n",
       "<table border=\"1\" class=\"dataframe\">\n",
       "  <thead>\n",
       "    <tr style=\"text-align: right;\">\n",
       "      <th></th>\n",
       "      <th>dt</th>\n",
       "      <th>temp</th>\n",
       "      <th>humidity</th>\n",
       "      <th>wind_speed</th>\n",
       "    </tr>\n",
       "  </thead>\n",
       "  <tbody>\n",
       "    <tr>\n",
       "      <th>0</th>\n",
       "      <td>11/14/2021</td>\n",
       "      <td>6.58</td>\n",
       "      <td>90</td>\n",
       "      <td>2.68</td>\n",
       "    </tr>\n",
       "    <tr>\n",
       "      <th>1</th>\n",
       "      <td>11/14/2021</td>\n",
       "      <td>4.36</td>\n",
       "      <td>90</td>\n",
       "      <td>2.68</td>\n",
       "    </tr>\n",
       "    <tr>\n",
       "      <th>0</th>\n",
       "      <td>11/13/2021</td>\n",
       "      <td>12.32</td>\n",
       "      <td>96</td>\n",
       "      <td>0.00</td>\n",
       "    </tr>\n",
       "    <tr>\n",
       "      <th>1</th>\n",
       "      <td>11/13/2021</td>\n",
       "      <td>12.23</td>\n",
       "      <td>96</td>\n",
       "      <td>0.89</td>\n",
       "    </tr>\n",
       "    <tr>\n",
       "      <th>2</th>\n",
       "      <td>11/13/2021</td>\n",
       "      <td>11.05</td>\n",
       "      <td>95</td>\n",
       "      <td>1.34</td>\n",
       "    </tr>\n",
       "    <tr>\n",
       "      <th>...</th>\n",
       "      <td>...</td>\n",
       "      <td>...</td>\n",
       "      <td>...</td>\n",
       "      <td>...</td>\n",
       "    </tr>\n",
       "    <tr>\n",
       "      <th>19</th>\n",
       "      <td>11/10/2021</td>\n",
       "      <td>14.27</td>\n",
       "      <td>63</td>\n",
       "      <td>1.79</td>\n",
       "    </tr>\n",
       "    <tr>\n",
       "      <th>20</th>\n",
       "      <td>11/10/2021</td>\n",
       "      <td>13.29</td>\n",
       "      <td>63</td>\n",
       "      <td>1.34</td>\n",
       "    </tr>\n",
       "    <tr>\n",
       "      <th>21</th>\n",
       "      <td>11/10/2021</td>\n",
       "      <td>12.00</td>\n",
       "      <td>56</td>\n",
       "      <td>1.34</td>\n",
       "    </tr>\n",
       "    <tr>\n",
       "      <th>22</th>\n",
       "      <td>11/10/2021</td>\n",
       "      <td>10.55</td>\n",
       "      <td>56</td>\n",
       "      <td>0.45</td>\n",
       "    </tr>\n",
       "    <tr>\n",
       "      <th>23</th>\n",
       "      <td>11/10/2021</td>\n",
       "      <td>8.13</td>\n",
       "      <td>64</td>\n",
       "      <td>0.00</td>\n",
       "    </tr>\n",
       "  </tbody>\n",
       "</table>\n",
       "<p>98 rows × 4 columns</p>\n",
       "</div>"
      ],
      "text/plain": [
       "            dt   temp humidity  wind_speed\n",
       "0   11/14/2021   6.58       90        2.68\n",
       "1   11/14/2021   4.36       90        2.68\n",
       "0   11/13/2021  12.32       96        0.00\n",
       "1   11/13/2021  12.23       96        0.89\n",
       "2   11/13/2021  11.05       95        1.34\n",
       "..         ...    ...      ...         ...\n",
       "19  11/10/2021  14.27       63        1.79\n",
       "20  11/10/2021  13.29       63        1.34\n",
       "21  11/10/2021  12.00       56        1.34\n",
       "22  11/10/2021  10.55       56        0.45\n",
       "23  11/10/2021   8.13       64        0.00\n",
       "\n",
       "[98 rows x 4 columns]"
      ]
     },
     "execution_count": 5,
     "metadata": {},
     "output_type": "execute_result"
    }
   ],
   "source": [
    "df_final.loc[:, \"temp\"] = df_final[\"temp\"].apply(lambda x: x - 273)\n",
    "df_final.loc[:, \"dt\"] = df_final[\"dt\"].apply(lambda x: datetime.datetime.utcfromtimestamp(x).strftime('%m/%d/%Y'))\n",
    "df_final\n",
    "\n",
    "#datetime.datetime.utcfromtimestamp(posix_time).strftime('%Y-%m-%dT%H:%M:%SZ')"
   ]
  },
  {
   "cell_type": "markdown",
   "metadata": {},
   "source": [
    "## This sectoin handles averaging the columbs"
   ]
  },
  {
   "cell_type": "markdown",
   "metadata": {},
   "source": [
    "#### Avearge Temp"
   ]
  },
  {
   "cell_type": "code",
   "execution_count": 6,
   "metadata": {},
   "outputs": [
    {
     "name": "stdout",
     "output_type": "stream",
     "text": [
      "8.830714285714285\n"
     ]
    }
   ],
   "source": [
    "aveage_temp = df_final['temp'].mean()\n",
    "print(aveage_temp) # this needs to be converted to regular temp"
   ]
  },
  {
   "cell_type": "markdown",
   "metadata": {},
   "source": [
    "#### Average humidity"
   ]
  },
  {
   "cell_type": "code",
   "execution_count": 7,
   "metadata": {},
   "outputs": [
    {
     "name": "stdout",
     "output_type": "stream",
     "text": [
      "78.21428571428571\n"
     ]
    }
   ],
   "source": [
    "average_humidity = df_final['humidity'].mean()\n",
    "print(average_humidity)"
   ]
  },
  {
   "cell_type": "markdown",
   "metadata": {},
   "source": [
    "#### Average wind speed"
   ]
  },
  {
   "cell_type": "code",
   "execution_count": 8,
   "metadata": {},
   "outputs": [
    {
     "name": "stdout",
     "output_type": "stream",
     "text": [
      "0.8740816326530614\n"
     ]
    }
   ],
   "source": [
    "aveage_wind_speed = df_final['wind_speed'].mean()\n",
    "print(aveage_wind_speed) # This is in MPH already, its just so slow that its under 1 mph"
   ]
  },
  {
   "cell_type": "code",
   "execution_count": 9,
   "metadata": {},
   "outputs": [],
   "source": [
    "# get the date and time of the last 5 days, convert to unixtime\n",
    "\n",
    "#for eatch unix date get the wether for manchester on that day, append that data to the df\n",
    "\n",
    "# take the average temp"
   ]
  }
 ],
 "metadata": {
  "interpreter": {
   "hash": "e7370f93d1d0cde622a1f8e1c04877d8463912d04d973331ad4851f04de6915a"
  },
  "kernelspec": {
   "display_name": "Python 3.9.7 64-bit",
   "name": "python3"
  },
  "language_info": {
   "codemirror_mode": {
    "name": "ipython",
    "version": 3
   },
   "file_extension": ".py",
   "mimetype": "text/x-python",
   "name": "python",
   "nbconvert_exporter": "python",
   "pygments_lexer": "ipython3",
   "version": "3.9.7"
  },
  "orig_nbformat": 4
 },
 "nbformat": 4,
 "nbformat_minor": 2
}
