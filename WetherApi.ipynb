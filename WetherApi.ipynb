{
 "cells": [
  {
   "cell_type": "markdown",
   "metadata": {},
   "source": [
    "## This section starts us off (api query and processing) \n",
    "* This section loops through 5 dates and gets the hrly temp, humidity and wind_speed for 5 days"
   ]
  },
  {
   "cell_type": "code",
   "execution_count": 1,
   "metadata": {},
   "outputs": [],
   "source": [
    "'''\n",
    "The new goal of my project is to: calculate the average temp in manchester over the last 5 days and graph it\n",
    "'''\n",
    "# unix time calculator -0> https://www.vultr.com/resources/unix-time-calculator/?convert=date&date_day=27&date_month=10&date_year=2021&date_hour=12&date_minute=00&date_second=00&date_tz_from=UTC&date_tz_to=UTC&date_format=Y-m-d+H%3Ai%3As\n",
    "\n",
    "import requests, json, datetime, pandas as pd\n",
    "\n",
    "df_final = pd.DataFrame(columns=['dt', 'temp', 'humidity', 'wind_speed']) # inititalisation of final dataframe\n",
    "last_5_days = []\n",
    "\n",
    "for x in range(0,5): # gets current date and time delta in unixtime\n",
    "    unix_date_time = (datetime.datetime.today() - datetime.timedelta(x)).strftime(\"%s\") \n",
    "    last_5_days.append(unix_date_time)\n",
    "\n",
    "\n"
   ]
  },
  {
   "cell_type": "markdown",
   "metadata": {},
   "source": [
    "### Manchester dataframe processing\n",
    "\n",
    "* this gets all the data for the city of manchester, condences it to what we care about and puts it in a dataframe"
   ]
  },
  {
   "cell_type": "code",
   "execution_count": 2,
   "metadata": {},
   "outputs": [
    {
     "data": {
      "text/html": [
       "<div>\n",
       "<style scoped>\n",
       "    .dataframe tbody tr th:only-of-type {\n",
       "        vertical-align: middle;\n",
       "    }\n",
       "\n",
       "    .dataframe tbody tr th {\n",
       "        vertical-align: top;\n",
       "    }\n",
       "\n",
       "    .dataframe thead th {\n",
       "        text-align: right;\n",
       "    }\n",
       "</style>\n",
       "<table border=\"1\" class=\"dataframe\">\n",
       "  <thead>\n",
       "    <tr style=\"text-align: right;\">\n",
       "      <th></th>\n",
       "      <th>dt</th>\n",
       "      <th>temp</th>\n",
       "      <th>humidity</th>\n",
       "      <th>wind_speed</th>\n",
       "      <th>city</th>\n",
       "      <th>id</th>\n",
       "    </tr>\n",
       "  </thead>\n",
       "  <tbody>\n",
       "    <tr>\n",
       "      <th>0</th>\n",
       "      <td>1638403200</td>\n",
       "      <td>273.45</td>\n",
       "      <td>77</td>\n",
       "      <td>0.45</td>\n",
       "      <td>Manchester</td>\n",
       "      <td>2075258929833053662</td>\n",
       "    </tr>\n",
       "    <tr>\n",
       "      <th>1</th>\n",
       "      <td>1638406800</td>\n",
       "      <td>273.92</td>\n",
       "      <td>75</td>\n",
       "      <td>0.89</td>\n",
       "      <td>Manchester</td>\n",
       "      <td>1867733256915917805</td>\n",
       "    </tr>\n",
       "    <tr>\n",
       "      <th>0</th>\n",
       "      <td>1638316800</td>\n",
       "      <td>273.49</td>\n",
       "      <td>72</td>\n",
       "      <td>0.45</td>\n",
       "      <td>Manchester</td>\n",
       "      <td>2167492562240584793</td>\n",
       "    </tr>\n",
       "    <tr>\n",
       "      <th>1</th>\n",
       "      <td>1638320400</td>\n",
       "      <td>273.66</td>\n",
       "      <td>73</td>\n",
       "      <td>0.45</td>\n",
       "      <td>Manchester</td>\n",
       "      <td>253643040515082859</td>\n",
       "    </tr>\n",
       "    <tr>\n",
       "      <th>2</th>\n",
       "      <td>1638324000</td>\n",
       "      <td>273.68</td>\n",
       "      <td>76</td>\n",
       "      <td>2.04</td>\n",
       "      <td>Manchester</td>\n",
       "      <td>1660207034242881663</td>\n",
       "    </tr>\n",
       "    <tr>\n",
       "      <th>...</th>\n",
       "      <td>...</td>\n",
       "      <td>...</td>\n",
       "      <td>...</td>\n",
       "      <td>...</td>\n",
       "      <td>...</td>\n",
       "      <td>...</td>\n",
       "    </tr>\n",
       "    <tr>\n",
       "      <th>19</th>\n",
       "      <td>1638126000</td>\n",
       "      <td>274.37</td>\n",
       "      <td>53</td>\n",
       "      <td>0.89</td>\n",
       "      <td>Manchester</td>\n",
       "      <td>599519162043454200</td>\n",
       "    </tr>\n",
       "    <tr>\n",
       "      <th>20</th>\n",
       "      <td>1638129600</td>\n",
       "      <td>274.19</td>\n",
       "      <td>58</td>\n",
       "      <td>0.00</td>\n",
       "      <td>Manchester</td>\n",
       "      <td>438110305330127116</td>\n",
       "    </tr>\n",
       "    <tr>\n",
       "      <th>21</th>\n",
       "      <td>1638133200</td>\n",
       "      <td>273.96</td>\n",
       "      <td>62</td>\n",
       "      <td>0.00</td>\n",
       "      <td>Manchester</td>\n",
       "      <td>2213609378444209951</td>\n",
       "    </tr>\n",
       "    <tr>\n",
       "      <th>22</th>\n",
       "      <td>1638136800</td>\n",
       "      <td>273.10</td>\n",
       "      <td>68</td>\n",
       "      <td>0.82</td>\n",
       "      <td>Manchester</td>\n",
       "      <td>2121375196280782133</td>\n",
       "    </tr>\n",
       "    <tr>\n",
       "      <th>23</th>\n",
       "      <td>1638140400</td>\n",
       "      <td>272.87</td>\n",
       "      <td>67</td>\n",
       "      <td>0.45</td>\n",
       "      <td>Manchester</td>\n",
       "      <td>737869610654894916</td>\n",
       "    </tr>\n",
       "  </tbody>\n",
       "</table>\n",
       "<p>98 rows × 6 columns</p>\n",
       "</div>"
      ],
      "text/plain": [
       "            dt    temp humidity  wind_speed        city                   id\n",
       "0   1638403200  273.45       77        0.45  Manchester  2075258929833053662\n",
       "1   1638406800  273.92       75        0.89  Manchester  1867733256915917805\n",
       "0   1638316800  273.49       72        0.45  Manchester  2167492562240584793\n",
       "1   1638320400  273.66       73        0.45  Manchester   253643040515082859\n",
       "2   1638324000  273.68       76        2.04  Manchester  1660207034242881663\n",
       "..         ...     ...      ...         ...         ...                  ...\n",
       "19  1638126000  274.37       53        0.89  Manchester   599519162043454200\n",
       "20  1638129600  274.19       58        0.00  Manchester   438110305330127116\n",
       "21  1638133200  273.96       62        0.00  Manchester  2213609378444209951\n",
       "22  1638136800  273.10       68        0.82  Manchester  2121375196280782133\n",
       "23  1638140400  272.87       67        0.45  Manchester   737869610654894916\n",
       "\n",
       "[98 rows x 6 columns]"
      ]
     },
     "execution_count": 2,
     "metadata": {},
     "output_type": "execute_result"
    }
   ],
   "source": [
    "df_final_manchester = pd.DataFrame(columns=['dt', 'temp', 'humidity', 'wind_speed']) # inititalisation of final dataframe\n",
    "\n",
    "for day in last_5_days: # gets the json from the api, processes it into a df and appends it to the final frame. ownly takes 4 columbs\n",
    "    response_manchester = requests.get(\"http://api.openweathermap.org/data/2.5/onecall/timemachine?lat=42.9956&lon=-71.4548&dt=\"+ day +\"&appid=fd3ef9b217de69f13fde1bd0325da289\")\n",
    "    \n",
    "    processed_responce_manchester = response_manchester.json() # gets json\n",
    "    \n",
    "    df_raw_manchester = pd.DataFrame(processed_responce_manchester['hourly']) # json -> df from the \"hourly\" list\n",
    "    \n",
    "    df_processed_manchester = df_raw_manchester[[\"dt\",\"temp\", \"humidity\", \"wind_speed\"]].copy() # cuts df down to what we want ownly\n",
    "    \n",
    "    df_final_manchester = df_final_manchester.append(df_processed_manchester) # appends to the final df\n",
    "\n",
    "df_final_manchester.insert(loc=len(df_final_manchester.columns), column='city', value='Manchester')\n",
    "\n",
    "df_final_manchester['id'] = df_final_manchester[['dt', 'temp', 'humidity', 'wind_speed',]].sum(axis=1).map(hash)\n",
    "\n",
    "df_final_manchester#.shape "
   ]
  },
  {
   "cell_type": "markdown",
   "metadata": {},
   "source": [
    "### Concord data processing\n",
    "\n",
    "* this gets all the data for the city of concord, condences it to what we care about and puts it in a dataframe"
   ]
  },
  {
   "cell_type": "code",
   "execution_count": 3,
   "metadata": {},
   "outputs": [
    {
     "data": {
      "text/html": [
       "<div>\n",
       "<style scoped>\n",
       "    .dataframe tbody tr th:only-of-type {\n",
       "        vertical-align: middle;\n",
       "    }\n",
       "\n",
       "    .dataframe tbody tr th {\n",
       "        vertical-align: top;\n",
       "    }\n",
       "\n",
       "    .dataframe thead th {\n",
       "        text-align: right;\n",
       "    }\n",
       "</style>\n",
       "<table border=\"1\" class=\"dataframe\">\n",
       "  <thead>\n",
       "    <tr style=\"text-align: right;\">\n",
       "      <th></th>\n",
       "      <th>dt</th>\n",
       "      <th>temp</th>\n",
       "      <th>humidity</th>\n",
       "      <th>wind_speed</th>\n",
       "      <th>city</th>\n",
       "      <th>id</th>\n",
       "    </tr>\n",
       "  </thead>\n",
       "  <tbody>\n",
       "    <tr>\n",
       "      <th>0</th>\n",
       "      <td>1638403200</td>\n",
       "      <td>272.80</td>\n",
       "      <td>77</td>\n",
       "      <td>0.00</td>\n",
       "      <td>Concord</td>\n",
       "      <td>1844674299058195933</td>\n",
       "    </tr>\n",
       "    <tr>\n",
       "      <th>1</th>\n",
       "      <td>1638406800</td>\n",
       "      <td>272.96</td>\n",
       "      <td>77</td>\n",
       "      <td>1.54</td>\n",
       "      <td>Concord</td>\n",
       "      <td>1152921506245254127</td>\n",
       "    </tr>\n",
       "    <tr>\n",
       "      <th>0</th>\n",
       "      <td>1638316800</td>\n",
       "      <td>273.43</td>\n",
       "      <td>75</td>\n",
       "      <td>1.54</td>\n",
       "      <td>Concord</td>\n",
       "      <td>2236667786546297949</td>\n",
       "    </tr>\n",
       "    <tr>\n",
       "      <th>1</th>\n",
       "      <td>1638320400</td>\n",
       "      <td>273.84</td>\n",
       "      <td>74</td>\n",
       "      <td>1.54</td>\n",
       "      <td>Concord</td>\n",
       "      <td>876220059266501229</td>\n",
       "    </tr>\n",
       "    <tr>\n",
       "      <th>2</th>\n",
       "      <td>1638324000</td>\n",
       "      <td>273.64</td>\n",
       "      <td>77</td>\n",
       "      <td>1.54</td>\n",
       "      <td>Concord</td>\n",
       "      <td>415051897228417152</td>\n",
       "    </tr>\n",
       "    <tr>\n",
       "      <th>...</th>\n",
       "      <td>...</td>\n",
       "      <td>...</td>\n",
       "      <td>...</td>\n",
       "      <td>...</td>\n",
       "      <td>...</td>\n",
       "      <td>...</td>\n",
       "    </tr>\n",
       "    <tr>\n",
       "      <th>19</th>\n",
       "      <td>1638126000</td>\n",
       "      <td>273.88</td>\n",
       "      <td>50</td>\n",
       "      <td>2.57</td>\n",
       "      <td>Concord</td>\n",
       "      <td>1037629465735451382</td>\n",
       "    </tr>\n",
       "    <tr>\n",
       "      <th>20</th>\n",
       "      <td>1638129600</td>\n",
       "      <td>273.88</td>\n",
       "      <td>53</td>\n",
       "      <td>2.06</td>\n",
       "      <td>Concord</td>\n",
       "      <td>2167492562240397576</td>\n",
       "    </tr>\n",
       "    <tr>\n",
       "      <th>21</th>\n",
       "      <td>1638133200</td>\n",
       "      <td>273.18</td>\n",
       "      <td>57</td>\n",
       "      <td>0.00</td>\n",
       "      <td>Concord</td>\n",
       "      <td>415051897228226330</td>\n",
       "    </tr>\n",
       "    <tr>\n",
       "      <th>22</th>\n",
       "      <td>1638136800</td>\n",
       "      <td>272.36</td>\n",
       "      <td>65</td>\n",
       "      <td>0.00</td>\n",
       "      <td>Concord</td>\n",
       "      <td>830103243062508849</td>\n",
       "    </tr>\n",
       "    <tr>\n",
       "      <th>23</th>\n",
       "      <td>1638140400</td>\n",
       "      <td>272.35</td>\n",
       "      <td>66</td>\n",
       "      <td>0.00</td>\n",
       "      <td>Concord</td>\n",
       "      <td>807044834960608066</td>\n",
       "    </tr>\n",
       "  </tbody>\n",
       "</table>\n",
       "<p>98 rows × 6 columns</p>\n",
       "</div>"
      ],
      "text/plain": [
       "            dt    temp humidity  wind_speed     city                   id\n",
       "0   1638403200  272.80       77        0.00  Concord  1844674299058195933\n",
       "1   1638406800  272.96       77        1.54  Concord  1152921506245254127\n",
       "0   1638316800  273.43       75        1.54  Concord  2236667786546297949\n",
       "1   1638320400  273.84       74        1.54  Concord   876220059266501229\n",
       "2   1638324000  273.64       77        1.54  Concord   415051897228417152\n",
       "..         ...     ...      ...         ...      ...                  ...\n",
       "19  1638126000  273.88       50        2.57  Concord  1037629465735451382\n",
       "20  1638129600  273.88       53        2.06  Concord  2167492562240397576\n",
       "21  1638133200  273.18       57        0.00  Concord   415051897228226330\n",
       "22  1638136800  272.36       65        0.00  Concord   830103243062508849\n",
       "23  1638140400  272.35       66        0.00  Concord   807044834960608066\n",
       "\n",
       "[98 rows x 6 columns]"
      ]
     },
     "execution_count": 3,
     "metadata": {},
     "output_type": "execute_result"
    }
   ],
   "source": [
    "df_final_concord = pd.DataFrame(columns=['dt', 'temp', 'humidity', 'wind_speed']) # inititalisation of final dataframe\n",
    "\n",
    "for day in last_5_days: # gets the json from the api, processes it into a df and appends it to the final frame. ownly takes 4 columbs\n",
    "    response_concord = requests.get(\"http://api.openweathermap.org/data/2.5/onecall/timemachine?lat=43.2081&lon=-71.5376&dt=\"+ day +\"&appid=fd3ef9b217de69f13fde1bd0325da289\")\n",
    "    \n",
    "    processed_responce_concord = response_concord.json() # gets json\n",
    "    \n",
    "    df_raw_concord = pd.DataFrame(processed_responce_concord['hourly']) # json -> df from the \"hourly\" list\n",
    "    \n",
    "    df_processed_concord = df_raw_concord[[\"dt\",\"temp\", \"humidity\", \"wind_speed\"]].copy() # cuts df down to what we want ownly\n",
    "    \n",
    "    df_final_concord = df_final_concord.append(df_processed_concord) # appends to the final df\n",
    "\n",
    "df_final_concord.insert(loc=len(df_final_concord.columns), column='city', value='Concord')\n",
    "\n",
    "df_final_concord['id'] = df_final_concord[['dt', 'temp', 'humidity', 'wind_speed',]].sum(axis=1).map(hash)\n",
    "\n",
    "df_final_concord #.shape "
   ]
  },
  {
   "cell_type": "markdown",
   "metadata": {},
   "source": [
    "## Keen data processing\n",
    "* this gets all the data for the city of Keen, condences it to what we care about and puts it in a dataframe"
   ]
  },
  {
   "cell_type": "code",
   "execution_count": 4,
   "metadata": {},
   "outputs": [
    {
     "data": {
      "text/html": [
       "<div>\n",
       "<style scoped>\n",
       "    .dataframe tbody tr th:only-of-type {\n",
       "        vertical-align: middle;\n",
       "    }\n",
       "\n",
       "    .dataframe tbody tr th {\n",
       "        vertical-align: top;\n",
       "    }\n",
       "\n",
       "    .dataframe thead th {\n",
       "        text-align: right;\n",
       "    }\n",
       "</style>\n",
       "<table border=\"1\" class=\"dataframe\">\n",
       "  <thead>\n",
       "    <tr style=\"text-align: right;\">\n",
       "      <th></th>\n",
       "      <th>dt</th>\n",
       "      <th>temp</th>\n",
       "      <th>humidity</th>\n",
       "      <th>wind_speed</th>\n",
       "      <th>city</th>\n",
       "      <th>id</th>\n",
       "    </tr>\n",
       "  </thead>\n",
       "  <tbody>\n",
       "    <tr>\n",
       "      <th>0</th>\n",
       "      <td>1638403200</td>\n",
       "      <td>273.32</td>\n",
       "      <td>87</td>\n",
       "      <td>0.72</td>\n",
       "      <td>keen</td>\n",
       "      <td>92233634046021097</td>\n",
       "    </tr>\n",
       "    <tr>\n",
       "      <th>1</th>\n",
       "      <td>1638406800</td>\n",
       "      <td>273.46</td>\n",
       "      <td>87</td>\n",
       "      <td>1.16</td>\n",
       "      <td>keen</td>\n",
       "      <td>1429622953223920633</td>\n",
       "    </tr>\n",
       "    <tr>\n",
       "      <th>0</th>\n",
       "      <td>1638316800</td>\n",
       "      <td>272.55</td>\n",
       "      <td>92</td>\n",
       "      <td>3.51</td>\n",
       "      <td>keen</td>\n",
       "      <td>138350450249743472</td>\n",
       "    </tr>\n",
       "    <tr>\n",
       "      <th>1</th>\n",
       "      <td>1638320400</td>\n",
       "      <td>272.29</td>\n",
       "      <td>95</td>\n",
       "      <td>3.74</td>\n",
       "      <td>keen</td>\n",
       "      <td>69175225944033923</td>\n",
       "    </tr>\n",
       "    <tr>\n",
       "      <th>2</th>\n",
       "      <td>1638324000</td>\n",
       "      <td>272.44</td>\n",
       "      <td>94</td>\n",
       "      <td>3.23</td>\n",
       "      <td>keen</td>\n",
       "      <td>1544914993733359761</td>\n",
       "    </tr>\n",
       "    <tr>\n",
       "      <th>...</th>\n",
       "      <td>...</td>\n",
       "      <td>...</td>\n",
       "      <td>...</td>\n",
       "      <td>...</td>\n",
       "      <td>...</td>\n",
       "      <td>...</td>\n",
       "    </tr>\n",
       "    <tr>\n",
       "      <th>19</th>\n",
       "      <td>1638126000</td>\n",
       "      <td>272.81</td>\n",
       "      <td>93</td>\n",
       "      <td>3.42</td>\n",
       "      <td>keen</td>\n",
       "      <td>530343937737741089</td>\n",
       "    </tr>\n",
       "    <tr>\n",
       "      <th>20</th>\n",
       "      <td>1638129600</td>\n",
       "      <td>273.06</td>\n",
       "      <td>93</td>\n",
       "      <td>3.21</td>\n",
       "      <td>keen</td>\n",
       "      <td>622577570145362225</td>\n",
       "    </tr>\n",
       "    <tr>\n",
       "      <th>21</th>\n",
       "      <td>1638133200</td>\n",
       "      <td>273.23</td>\n",
       "      <td>92</td>\n",
       "      <td>3.31</td>\n",
       "      <td>keen</td>\n",
       "      <td>1245155138652598080</td>\n",
       "    </tr>\n",
       "    <tr>\n",
       "      <th>22</th>\n",
       "      <td>1638136800</td>\n",
       "      <td>272.87</td>\n",
       "      <td>95</td>\n",
       "      <td>3.36</td>\n",
       "      <td>keen</td>\n",
       "      <td>530343387981938003</td>\n",
       "    </tr>\n",
       "    <tr>\n",
       "      <th>23</th>\n",
       "      <td>1638140400</td>\n",
       "      <td>272.95</td>\n",
       "      <td>94</td>\n",
       "      <td>3.98</td>\n",
       "      <td>keen</td>\n",
       "      <td>2144434154138504034</td>\n",
       "    </tr>\n",
       "  </tbody>\n",
       "</table>\n",
       "<p>98 rows × 6 columns</p>\n",
       "</div>"
      ],
      "text/plain": [
       "            dt    temp humidity  wind_speed  city                   id\n",
       "0   1638403200  273.32       87        0.72  keen    92233634046021097\n",
       "1   1638406800  273.46       87        1.16  keen  1429622953223920633\n",
       "0   1638316800  272.55       92        3.51  keen   138350450249743472\n",
       "1   1638320400  272.29       95        3.74  keen    69175225944033923\n",
       "2   1638324000  272.44       94        3.23  keen  1544914993733359761\n",
       "..         ...     ...      ...         ...   ...                  ...\n",
       "19  1638126000  272.81       93        3.42  keen   530343937737741089\n",
       "20  1638129600  273.06       93        3.21  keen   622577570145362225\n",
       "21  1638133200  273.23       92        3.31  keen  1245155138652598080\n",
       "22  1638136800  272.87       95        3.36  keen   530343387981938003\n",
       "23  1638140400  272.95       94        3.98  keen  2144434154138504034\n",
       "\n",
       "[98 rows x 6 columns]"
      ]
     },
     "execution_count": 4,
     "metadata": {},
     "output_type": "execute_result"
    }
   ],
   "source": [
    "df_final_keen = pd.DataFrame(columns=['dt', 'temp', 'humidity', 'wind_speed']) # inititalisation of final dataframe\n",
    "\n",
    "for day in last_5_days: # gets the json from the api, processes it into a df and appends it to the final frame. ownly takes 4 columbs\n",
    "    response_keen = requests.get(\"http://api.openweathermap.org/data/2.5/onecall/timemachine?lat=41.5929&lon=-75.3738&dt=\"+ day +\"&appid=fd3ef9b217de69f13fde1bd0325da289\")\n",
    "    \n",
    "    processed_responce_keen = response_keen.json() # gets json\n",
    "    \n",
    "    df_raw_keen = pd.DataFrame(processed_responce_keen['hourly']) # json -> df from the \"hourly\" list\n",
    "    \n",
    "    df_processed_keen = df_raw_keen[[\"dt\",\"temp\", \"humidity\", \"wind_speed\"]].copy() # cuts df down to what we want ownly\n",
    "    \n",
    "    df_final_keen = df_final_keen.append(df_processed_keen) # appends to the final df\n",
    "\n",
    "df_final_keen.insert(loc=len(df_final_keen.columns), column='city', value='keen')\n",
    "\n",
    "#df_final_keen['id'].apply(lambda x : df_final_keen[x] = hash)\n",
    "\n",
    "#df['a'] = df['a'].apply(lambda x: x + 1)\n",
    "\n",
    "df_final_keen['id'] = df_final_keen[['dt', 'temp', 'humidity', 'wind_speed',]].sum(axis=1).map(hash)\n",
    "\n",
    "\n",
    "\n",
    "df_final_keen #.shape"
   ]
  },
  {
   "cell_type": "markdown",
   "metadata": {},
   "source": [
    "## Merge the 3 newly ceated data frames\n",
    "* This section uses a concat() to mreg the 3 newly made dataframes because all the columbs are the same"
   ]
  },
  {
   "cell_type": "code",
   "execution_count": 5,
   "metadata": {},
   "outputs": [
    {
     "data": {
      "text/html": [
       "<div>\n",
       "<style scoped>\n",
       "    .dataframe tbody tr th:only-of-type {\n",
       "        vertical-align: middle;\n",
       "    }\n",
       "\n",
       "    .dataframe tbody tr th {\n",
       "        vertical-align: top;\n",
       "    }\n",
       "\n",
       "    .dataframe thead th {\n",
       "        text-align: right;\n",
       "    }\n",
       "</style>\n",
       "<table border=\"1\" class=\"dataframe\">\n",
       "  <thead>\n",
       "    <tr style=\"text-align: right;\">\n",
       "      <th></th>\n",
       "      <th>dt</th>\n",
       "      <th>temp</th>\n",
       "      <th>humidity</th>\n",
       "      <th>wind_speed</th>\n",
       "      <th>city</th>\n",
       "      <th>id</th>\n",
       "    </tr>\n",
       "  </thead>\n",
       "  <tbody>\n",
       "    <tr>\n",
       "      <th>0</th>\n",
       "      <td>1638403200</td>\n",
       "      <td>273.45</td>\n",
       "      <td>77</td>\n",
       "      <td>0.45</td>\n",
       "      <td>Manchester</td>\n",
       "      <td>2075258929833053662</td>\n",
       "    </tr>\n",
       "    <tr>\n",
       "      <th>1</th>\n",
       "      <td>1638406800</td>\n",
       "      <td>273.92</td>\n",
       "      <td>75</td>\n",
       "      <td>0.89</td>\n",
       "      <td>Manchester</td>\n",
       "      <td>1867733256915917805</td>\n",
       "    </tr>\n",
       "    <tr>\n",
       "      <th>0</th>\n",
       "      <td>1638316800</td>\n",
       "      <td>273.49</td>\n",
       "      <td>72</td>\n",
       "      <td>0.45</td>\n",
       "      <td>Manchester</td>\n",
       "      <td>2167492562240584793</td>\n",
       "    </tr>\n",
       "    <tr>\n",
       "      <th>1</th>\n",
       "      <td>1638320400</td>\n",
       "      <td>273.66</td>\n",
       "      <td>73</td>\n",
       "      <td>0.45</td>\n",
       "      <td>Manchester</td>\n",
       "      <td>253643040515082859</td>\n",
       "    </tr>\n",
       "    <tr>\n",
       "      <th>2</th>\n",
       "      <td>1638324000</td>\n",
       "      <td>273.68</td>\n",
       "      <td>76</td>\n",
       "      <td>2.04</td>\n",
       "      <td>Manchester</td>\n",
       "      <td>1660207034242881663</td>\n",
       "    </tr>\n",
       "    <tr>\n",
       "      <th>...</th>\n",
       "      <td>...</td>\n",
       "      <td>...</td>\n",
       "      <td>...</td>\n",
       "      <td>...</td>\n",
       "      <td>...</td>\n",
       "      <td>...</td>\n",
       "    </tr>\n",
       "    <tr>\n",
       "      <th>19</th>\n",
       "      <td>1638126000</td>\n",
       "      <td>273.88</td>\n",
       "      <td>50</td>\n",
       "      <td>2.57</td>\n",
       "      <td>Concord</td>\n",
       "      <td>1037629465735451382</td>\n",
       "    </tr>\n",
       "    <tr>\n",
       "      <th>20</th>\n",
       "      <td>1638129600</td>\n",
       "      <td>273.88</td>\n",
       "      <td>53</td>\n",
       "      <td>2.06</td>\n",
       "      <td>Concord</td>\n",
       "      <td>2167492562240397576</td>\n",
       "    </tr>\n",
       "    <tr>\n",
       "      <th>21</th>\n",
       "      <td>1638133200</td>\n",
       "      <td>273.18</td>\n",
       "      <td>57</td>\n",
       "      <td>0.00</td>\n",
       "      <td>Concord</td>\n",
       "      <td>415051897228226330</td>\n",
       "    </tr>\n",
       "    <tr>\n",
       "      <th>22</th>\n",
       "      <td>1638136800</td>\n",
       "      <td>272.36</td>\n",
       "      <td>65</td>\n",
       "      <td>0.00</td>\n",
       "      <td>Concord</td>\n",
       "      <td>830103243062508849</td>\n",
       "    </tr>\n",
       "    <tr>\n",
       "      <th>23</th>\n",
       "      <td>1638140400</td>\n",
       "      <td>272.35</td>\n",
       "      <td>66</td>\n",
       "      <td>0.00</td>\n",
       "      <td>Concord</td>\n",
       "      <td>807044834960608066</td>\n",
       "    </tr>\n",
       "  </tbody>\n",
       "</table>\n",
       "<p>294 rows × 6 columns</p>\n",
       "</div>"
      ],
      "text/plain": [
       "            dt    temp humidity  wind_speed        city                   id\n",
       "0   1638403200  273.45       77        0.45  Manchester  2075258929833053662\n",
       "1   1638406800  273.92       75        0.89  Manchester  1867733256915917805\n",
       "0   1638316800  273.49       72        0.45  Manchester  2167492562240584793\n",
       "1   1638320400  273.66       73        0.45  Manchester   253643040515082859\n",
       "2   1638324000  273.68       76        2.04  Manchester  1660207034242881663\n",
       "..         ...     ...      ...         ...         ...                  ...\n",
       "19  1638126000  273.88       50        2.57     Concord  1037629465735451382\n",
       "20  1638129600  273.88       53        2.06     Concord  2167492562240397576\n",
       "21  1638133200  273.18       57        0.00     Concord   415051897228226330\n",
       "22  1638136800  272.36       65        0.00     Concord   830103243062508849\n",
       "23  1638140400  272.35       66        0.00     Concord   807044834960608066\n",
       "\n",
       "[294 rows x 6 columns]"
      ]
     },
     "execution_count": 5,
     "metadata": {},
     "output_type": "execute_result"
    }
   ],
   "source": [
    "df_big = pd.concat([df_final_manchester, df_final_keen, df_final_concord], axis=0)\n",
    "df_big"
   ]
  },
  {
   "cell_type": "markdown",
   "metadata": {},
   "source": [
    "## CSV producuction\n",
    "* thats it, its just a csv file"
   ]
  },
  {
   "cell_type": "code",
   "execution_count": 6,
   "metadata": {},
   "outputs": [],
   "source": [
    "df_big.to_csv(r'/home/anthony/Documents/programing-materals/comp574/DataProject/export_dataframe.csv', index = False, header=True)"
   ]
  },
  {
   "cell_type": "markdown",
   "metadata": {},
   "source": [
    "### Questions\n",
    "* Whats the average temp for eatch city? : the average tempature for each city will be obtained by bringing in the data for the last 5 days. eatch day comes in as its own df so they need to be concatinated together. Then unessisary inforamtion will be stripped before all 3 (eatch city having its own df) are concatinated together, there temps converted to ferinheigt and the average will be taken from eatch using a group by function for presentation. this is reuesed in the temp variance section\n",
    "\n",
    "* whats the The average wind speed for eatch city? : The average wind speed looks similar to the average tempature and so does the process of obtaining it. each day is brought in and made into a df, those are combined and stripped of extraious info and then grouped by city before the averages are taken. the windspeed in done in knots so no conversion is needed. \n",
    "\n",
    "* Whats the aveage humidity for eatch city? : The process for this value is the same as the previous two. take the days in, combine them, strip extraious data, combine. No conversion nessisary beciasue its a percentage. group by city and average.\n",
    "### graphing questions \n",
    "* Is there any corilations in the data between the 3 averages? : To get this,I took my large DF that contined all the inforamtion for all the cities, droped the date, city and id from the data so Ownly the data i cared about was available and corilated it. I wanted to know if there was any conrilations in the data between temp and wind speed as after wating the news i wanted to know how close the \"feels like\" temps were to the actual reality in cooling the regon and if that could affect a regon becuase if there was indeed any corilation it should be visable. there was no corilation in this way and that makes me sad becuase that would have nbean interesting to look at/\n",
    "\n",
    "* whitch city has the highist average temp fopr the last 5 days? : Building this was a pain in the tail. for this I ha dto learn to use where to select all the data from the big df that i wanted (all the city data), drop the resulting NA value and average the temp for that city, cram that into its own varable for eatch city then create a new df with all those averages with the correct city names. looks like this week manchester was the warmist becasue its winter and all the nigtly temps are cold and the average comes out really low. last week keen was the warmist. or at least at time of wrigting."
   ]
  },
  {
   "cell_type": "markdown",
   "metadata": {},
   "source": [
    "## Convert's to ferinheight\n",
    "* This section take's our concatinated df and converts everything to readable format (ferinheight)\n",
    "* This also converts our unix timestamp to a readable date format"
   ]
  },
  {
   "cell_type": "code",
   "execution_count": 7,
   "metadata": {},
   "outputs": [
    {
     "data": {
      "text/html": [
       "<div>\n",
       "<style scoped>\n",
       "    .dataframe tbody tr th:only-of-type {\n",
       "        vertical-align: middle;\n",
       "    }\n",
       "\n",
       "    .dataframe tbody tr th {\n",
       "        vertical-align: top;\n",
       "    }\n",
       "\n",
       "    .dataframe thead th {\n",
       "        text-align: right;\n",
       "    }\n",
       "</style>\n",
       "<table border=\"1\" class=\"dataframe\">\n",
       "  <thead>\n",
       "    <tr style=\"text-align: right;\">\n",
       "      <th></th>\n",
       "      <th>dt</th>\n",
       "      <th>temp</th>\n",
       "      <th>humidity</th>\n",
       "      <th>wind_speed</th>\n",
       "      <th>city</th>\n",
       "      <th>id</th>\n",
       "    </tr>\n",
       "  </thead>\n",
       "  <tbody>\n",
       "    <tr>\n",
       "      <th>0</th>\n",
       "      <td>12/02/2021</td>\n",
       "      <td>0.45</td>\n",
       "      <td>77</td>\n",
       "      <td>0.45</td>\n",
       "      <td>Manchester</td>\n",
       "      <td>2075258929833053662</td>\n",
       "    </tr>\n",
       "    <tr>\n",
       "      <th>1</th>\n",
       "      <td>12/02/2021</td>\n",
       "      <td>0.92</td>\n",
       "      <td>75</td>\n",
       "      <td>0.89</td>\n",
       "      <td>Manchester</td>\n",
       "      <td>1867733256915917805</td>\n",
       "    </tr>\n",
       "    <tr>\n",
       "      <th>0</th>\n",
       "      <td>12/01/2021</td>\n",
       "      <td>0.49</td>\n",
       "      <td>72</td>\n",
       "      <td>0.45</td>\n",
       "      <td>Manchester</td>\n",
       "      <td>2167492562240584793</td>\n",
       "    </tr>\n",
       "    <tr>\n",
       "      <th>1</th>\n",
       "      <td>12/01/2021</td>\n",
       "      <td>0.66</td>\n",
       "      <td>73</td>\n",
       "      <td>0.45</td>\n",
       "      <td>Manchester</td>\n",
       "      <td>253643040515082859</td>\n",
       "    </tr>\n",
       "    <tr>\n",
       "      <th>2</th>\n",
       "      <td>12/01/2021</td>\n",
       "      <td>0.68</td>\n",
       "      <td>76</td>\n",
       "      <td>2.04</td>\n",
       "      <td>Manchester</td>\n",
       "      <td>1660207034242881663</td>\n",
       "    </tr>\n",
       "    <tr>\n",
       "      <th>...</th>\n",
       "      <td>...</td>\n",
       "      <td>...</td>\n",
       "      <td>...</td>\n",
       "      <td>...</td>\n",
       "      <td>...</td>\n",
       "      <td>...</td>\n",
       "    </tr>\n",
       "    <tr>\n",
       "      <th>19</th>\n",
       "      <td>11/28/2021</td>\n",
       "      <td>0.88</td>\n",
       "      <td>50</td>\n",
       "      <td>2.57</td>\n",
       "      <td>Concord</td>\n",
       "      <td>1037629465735451382</td>\n",
       "    </tr>\n",
       "    <tr>\n",
       "      <th>20</th>\n",
       "      <td>11/28/2021</td>\n",
       "      <td>0.88</td>\n",
       "      <td>53</td>\n",
       "      <td>2.06</td>\n",
       "      <td>Concord</td>\n",
       "      <td>2167492562240397576</td>\n",
       "    </tr>\n",
       "    <tr>\n",
       "      <th>21</th>\n",
       "      <td>11/28/2021</td>\n",
       "      <td>0.18</td>\n",
       "      <td>57</td>\n",
       "      <td>0.00</td>\n",
       "      <td>Concord</td>\n",
       "      <td>415051897228226330</td>\n",
       "    </tr>\n",
       "    <tr>\n",
       "      <th>22</th>\n",
       "      <td>11/28/2021</td>\n",
       "      <td>-0.64</td>\n",
       "      <td>65</td>\n",
       "      <td>0.00</td>\n",
       "      <td>Concord</td>\n",
       "      <td>830103243062508849</td>\n",
       "    </tr>\n",
       "    <tr>\n",
       "      <th>23</th>\n",
       "      <td>11/28/2021</td>\n",
       "      <td>-0.65</td>\n",
       "      <td>66</td>\n",
       "      <td>0.00</td>\n",
       "      <td>Concord</td>\n",
       "      <td>807044834960608066</td>\n",
       "    </tr>\n",
       "  </tbody>\n",
       "</table>\n",
       "<p>294 rows × 6 columns</p>\n",
       "</div>"
      ],
      "text/plain": [
       "            dt  temp humidity  wind_speed        city                   id\n",
       "0   12/02/2021  0.45       77        0.45  Manchester  2075258929833053662\n",
       "1   12/02/2021  0.92       75        0.89  Manchester  1867733256915917805\n",
       "0   12/01/2021  0.49       72        0.45  Manchester  2167492562240584793\n",
       "1   12/01/2021  0.66       73        0.45  Manchester   253643040515082859\n",
       "2   12/01/2021  0.68       76        2.04  Manchester  1660207034242881663\n",
       "..         ...   ...      ...         ...         ...                  ...\n",
       "19  11/28/2021  0.88       50        2.57     Concord  1037629465735451382\n",
       "20  11/28/2021  0.88       53        2.06     Concord  2167492562240397576\n",
       "21  11/28/2021  0.18       57        0.00     Concord   415051897228226330\n",
       "22  11/28/2021 -0.64       65        0.00     Concord   830103243062508849\n",
       "23  11/28/2021 -0.65       66        0.00     Concord   807044834960608066\n",
       "\n",
       "[294 rows x 6 columns]"
      ]
     },
     "execution_count": 7,
     "metadata": {},
     "output_type": "execute_result"
    }
   ],
   "source": [
    "df_big.loc[:, \"temp\"] = df_big[\"temp\"].apply(lambda x: x - 273)\n",
    "df_big.loc[:, \"dt\"] = df_big[\"dt\"].apply(lambda x: datetime.datetime.utcfromtimestamp(x).strftime('%m/%d/%Y'))\n",
    "df_big\n",
    "\n",
    "#datetime.datetime.utcfromtimestamp(posix_time).strftime('%Y-%m-%dT%H:%M:%SZ')"
   ]
  },
  {
   "cell_type": "markdown",
   "metadata": {},
   "source": [
    "## This sectoin handles averaging the columbs"
   ]
  },
  {
   "cell_type": "markdown",
   "metadata": {},
   "source": [
    "#### Avearge Temp for all Cities"
   ]
  },
  {
   "cell_type": "code",
   "execution_count": 8,
   "metadata": {},
   "outputs": [
    {
     "data": {
      "text/plain": [
       "city\n",
       "Concord      -0.933265\n",
       "Manchester   -0.682245\n",
       "keen         -1.601327\n",
       "Name: temp, dtype: float64"
      ]
     },
     "execution_count": 8,
     "metadata": {},
     "output_type": "execute_result"
    }
   ],
   "source": [
    "aveage_temp = df_big.groupby('city')['temp'].mean()\n",
    "aveage_temp # this needs to be converted to regular temp"
   ]
  },
  {
   "cell_type": "markdown",
   "metadata": {},
   "source": [
    "#### Avearge Temp variance for all Cities"
   ]
  },
  {
   "cell_type": "code",
   "execution_count": 9,
   "metadata": {},
   "outputs": [
    {
     "data": {
      "text/plain": [
       "city\n",
       "Concord       8.611888\n",
       "Manchester    8.187112\n",
       "keen          5.136463\n",
       "Name: temp, dtype: float64"
      ]
     },
     "execution_count": 9,
     "metadata": {},
     "output_type": "execute_result"
    }
   ],
   "source": [
    "aveage_temp_var = df_big.groupby('city')['temp'].var()\n",
    "aveage_temp_var"
   ]
  },
  {
   "cell_type": "markdown",
   "metadata": {},
   "source": [
    "#### Average humidity for all Cities"
   ]
  },
  {
   "cell_type": "code",
   "execution_count": 10,
   "metadata": {},
   "outputs": [
    {
     "data": {
      "text/plain": [
       "city\n",
       "Concord       70.346939\n",
       "Manchester    68.336735\n",
       "keen          87.693878\n",
       "Name: humidity, dtype: float64"
      ]
     },
     "execution_count": 10,
     "metadata": {},
     "output_type": "execute_result"
    }
   ],
   "source": [
    "average_humidity = df_big.groupby('city')['humidity'].mean()\n",
    "average_humidity"
   ]
  },
  {
   "cell_type": "markdown",
   "metadata": {},
   "source": [
    "#### Average wind speed for all Cities"
   ]
  },
  {
   "cell_type": "code",
   "execution_count": 11,
   "metadata": {},
   "outputs": [
    {
     "data": {
      "text/plain": [
       "city\n",
       "Concord       2.474592\n",
       "Manchester    1.293776\n",
       "keen          2.661531\n",
       "Name: wind_speed, dtype: float64"
      ]
     },
     "execution_count": 11,
     "metadata": {},
     "output_type": "execute_result"
    }
   ],
   "source": [
    "aveage_wind_speed = df_big.groupby('city')['wind_speed'].mean()\n",
    "aveage_wind_speed # This is in MPH already, its just so slow that its under 1 mph"
   ]
  },
  {
   "cell_type": "markdown",
   "metadata": {},
   "source": [
    "#### city mode\n",
    "* This section just proves that all the data comes in equily from all cities and that theres no more data fro one city than anouther"
   ]
  },
  {
   "cell_type": "code",
   "execution_count": 12,
   "metadata": {},
   "outputs": [
    {
     "data": {
      "text/plain": [
       "0       Concord\n",
       "1    Manchester\n",
       "2          keen\n",
       "dtype: object"
      ]
     },
     "execution_count": 12,
     "metadata": {},
     "output_type": "execute_result"
    }
   ],
   "source": [
    "city_mode = df_big['city'].mode()\n",
    "city_mode"
   ]
  },
  {
   "cell_type": "markdown",
   "metadata": {},
   "source": [
    "## Graphing section\n",
    "* thsis section hadles graphing via seborn"
   ]
  },
  {
   "cell_type": "code",
   "execution_count": 13,
   "metadata": {},
   "outputs": [],
   "source": [
    "import seaborn as sns"
   ]
  },
  {
   "cell_type": "markdown",
   "metadata": {},
   "source": [
    "#### Heatmap\n",
    "* this checks to see if any data is corilated in the dataframe"
   ]
  },
  {
   "cell_type": "code",
   "execution_count": 14,
   "metadata": {},
   "outputs": [
    {
     "data": {
      "text/plain": [
       "<AxesSubplot:>"
      ]
     },
     "execution_count": 14,
     "metadata": {},
     "output_type": "execute_result"
    },
    {
     "data": {
      "image/png": "[encoded data removed]",
      "text/plain": [
       "<Figure size 432x288 with 2 Axes>"
      ]
     },
     "metadata": {
      "needs_background": "light"
     },
     "output_type": "display_data"
    }
   ],
   "source": [
    "graphdf = (df_big.drop(['dt', 'city', 'id'], axis=1).copy())\n",
    "\n",
    "corr = graphdf.corr()\n",
    "sns.heatmap(corr)"
   ]
  },
  {
   "cell_type": "markdown",
   "metadata": {},
   "source": [
    "#### This section crops down our df for gaphing in a bar plot"
   ]
  },
  {
   "cell_type": "code",
   "execution_count": 15,
   "metadata": {},
   "outputs": [],
   "source": [
    "bar_graph = (df_big.drop(['dt','id'], axis=1).copy())"
   ]
  },
  {
   "cell_type": "markdown",
   "metadata": {},
   "source": [
    "#### manchester info\n",
    "* this section handles getting the average temp for manchester"
   ]
  },
  {
   "cell_type": "code",
   "execution_count": 16,
   "metadata": {},
   "outputs": [],
   "source": [
    "manchester_bar = bar_graph.where(bar_graph['city'] == 'Manchester')\n",
    "manchester_bar.dropna()\n",
    "mancheser_mean = manchester_bar['temp'].mean()"
   ]
  },
  {
   "cell_type": "markdown",
   "metadata": {},
   "source": [
    "#### Keen info\n",
    "* this section handles getting the average temp for Keen"
   ]
  },
  {
   "cell_type": "code",
   "execution_count": 17,
   "metadata": {},
   "outputs": [],
   "source": [
    "keen_bar = bar_graph.where(bar_graph['city'] == 'keen')\n",
    "keen_bar.dropna()\n",
    "keen_mean = keen_bar['temp'].mean()"
   ]
  },
  {
   "cell_type": "markdown",
   "metadata": {},
   "source": [
    "#### concord info\n",
    "* this section handles getting the average temp for concord"
   ]
  },
  {
   "cell_type": "code",
   "execution_count": 18,
   "metadata": {},
   "outputs": [],
   "source": [
    "Concord_bar = bar_graph.where(bar_graph['city'] == 'Concord')\n",
    "Concord_bar.dropna()\n",
    "Concord_mean = Concord_bar['temp'].mean()"
   ]
  },
  {
   "cell_type": "markdown",
   "metadata": {},
   "source": [
    "#### makeing a graphable df\n",
    "* this section stiches together our averages and city names to make it graphable "
   ]
  },
  {
   "cell_type": "code",
   "execution_count": 19,
   "metadata": {},
   "outputs": [
    {
     "data": {
      "text/plain": [
       "<AxesSubplot:xlabel='city', ylabel='average_temp'>"
      ]
     },
     "execution_count": 19,
     "metadata": {},
     "output_type": "execute_result"
    },
    {
     "data": {
      "image/png": "[encoded data removed]",
      "text/plain": [
       "<Figure size 432x288 with 1 Axes>"
      ]
     },
     "metadata": {
      "needs_background": "light"
     },
     "output_type": "display_data"
    }
   ],
   "source": [
    "data = {'city': ['Manchester', 'keen', 'Concord'], 'average_temp': [mancheser_mean, keen_mean, Concord_mean]}\n",
    "\n",
    "df = pd.DataFrame(data)\n",
    "\n",
    "sns.barplot(x = 'city', y = 'average_temp', data=df)"
   ]
  }
 ],
 "metadata": {
  "interpreter": {
   "hash": "e7370f93d1d0cde622a1f8e1c04877d8463912d04d973331ad4851f04de6915a"
  },
  "kernelspec": {
   "display_name": "Python 3.9.7 64-bit",
   "name": "python3"
  },
  "language_info": {
   "codemirror_mode": {
    "name": "ipython",
    "version": 3
   },
   "file_extension": ".py",
   "mimetype": "text/x-python",
   "name": "python",
   "nbconvert_exporter": "python",
   "pygments_lexer": "ipython3",
   "version": "3.9.7"
  },
  "orig_nbformat": 4
 },
 "nbformat": 4,
 "nbformat_minor": 2
}
