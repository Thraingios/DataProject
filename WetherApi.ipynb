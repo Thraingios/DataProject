{
 "cells": [
  {
   "cell_type": "markdown",
   "metadata": {},
   "source": [
    "### this section is for code notes, not important to the notebook"
   ]
  },
  {
   "cell_type": "code",
   "execution_count": 1,
   "metadata": {},
   "outputs": [],
   "source": [
    "#import requests, json, datetime, pandas as pd\n",
    "\n",
    "#unix_date_time = (datetime.datetime.today().strftime(\"%s\"))\n",
    "\n",
    "#response_manchester = requests.get(\"http://api.openweathermap.org/data/2.5/onecall/timemachine?lat=42.9956&lon=-71.4548&dt=\"+ unix_date_time +\"&appid=fd3ef9b217de69f13fde1bd0325da289\")\n",
    "#processed_responce = response_manchester.json()\n",
    "\n",
    "#df = pd.DataFrame(processed_responce['hourly'])\n",
    "#df\n",
    "#df2 = df[[\"dt\",\"temp\", \"humidity\", \"wind_speed\"]].copy()\n",
    "#df.to_csv(r'/home/anthony/Documents/programing-materals/comp574/WetherApiProject/export_dataframe.csv', index = False, header=True)\n",
    "\n",
    "\n",
    "\n",
    "#df2\n",
    "\n",
    "#dict_keys(['lat', 'lon', 'timezone', 'timezone_offset', 'current', 'hourly'])\n"
   ]
  },
  {
   "cell_type": "markdown",
   "metadata": {},
   "source": [
    "## This section starts us off (api query and processing) \n",
    "* This section loops through 5 dates and gets the hrly temp, humidity and wind_speed for 5 days\n",
    "\n",
    "* then it process it into a single large dataframe for processing later"
   ]
  },
  {
   "cell_type": "code",
   "execution_count": 2,
   "metadata": {},
   "outputs": [],
   "source": [
    "'''\n",
    "The new goal of my project is to: calculate the average temp in manchester over the last 5 days and graph it\n",
    "'''\n",
    "# unix time calculator -0> https://www.vultr.com/resources/unix-time-calculator/?convert=date&date_day=27&date_month=10&date_year=2021&date_hour=12&date_minute=00&date_second=00&date_tz_from=UTC&date_tz_to=UTC&date_format=Y-m-d+H%3Ai%3As\n",
    "\n",
    "import requests, json, datetime, pandas as pd\n",
    "\n",
    "df_final = pd.DataFrame(columns=['dt', 'temp', 'humidity', 'wind_speed']) # inititalisation of final dataframe\n",
    "last_5_days = []\n",
    "\n",
    "for x in range(0,5): # gets current date and time delta in unixtime\n",
    "    unix_date_time = (datetime.datetime.today() - datetime.timedelta(x)).strftime(\"%s\") \n",
    "    last_5_days.append(unix_date_time)\n",
    "\n",
    "for day in last_5_days: # gets the json from the api, processes it into a df and appends it to the final frame. ownly takes 4 columbs\n",
    "    response_manchester = requests.get(\"http://api.openweathermap.org/data/2.5/onecall/timemachine?lat=42.9956&lon=-71.4548&dt=\"+ day +\"&appid=fd3ef9b217de69f13fde1bd0325da289\")\n",
    "    \n",
    "    processed_responce = response_manchester.json() # gets json\n",
    "    \n",
    "    df_raw = pd.DataFrame(processed_responce['hourly']) # json -> df from the \"hourly\" list\n",
    "    \n",
    "    df_processed = df_raw[[\"dt\",\"temp\", \"humidity\", \"wind_speed\"]].copy() # cuts df down to what we want ownly\n",
    "    \n",
    "    df_final = df_final.append(df_processed) # appends to the final df\n"
   ]
  },
  {
   "cell_type": "markdown",
   "metadata": {},
   "source": [
    "## This section checks the df.shape\n",
    "\n",
    " * This section just makes shure we have the right number of columbs and rows\n",
    "\n",
    " * hould have (119, 4)"
   ]
  },
  {
   "cell_type": "code",
   "execution_count": 3,
   "metadata": {},
   "outputs": [
    {
     "data": {
      "text/plain": [
       "(120, 4)"
      ]
     },
     "execution_count": 3,
     "metadata": {},
     "output_type": "execute_result"
    }
   ],
   "source": [
    "df_final.shape"
   ]
  },
  {
   "cell_type": "markdown",
   "metadata": {},
   "source": [
    "## this sends df_final to a csv file\n",
    "* thats it, its just a csv file"
   ]
  },
  {
   "cell_type": "code",
   "execution_count": 4,
   "metadata": {},
   "outputs": [],
   "source": [
    "df_final.to_csv(r'/home/anthony/Documents/programing-materals/comp574/DataProject/export_dataframe.csv', index = False, header=True)"
   ]
  },
  {
   "cell_type": "code",
   "execution_count": 5,
   "metadata": {},
   "outputs": [
    {
     "data": {
      "text/html": [
       "<div>\n",
       "<style scoped>\n",
       "    .dataframe tbody tr th:only-of-type {\n",
       "        vertical-align: middle;\n",
       "    }\n",
       "\n",
       "    .dataframe tbody tr th {\n",
       "        vertical-align: top;\n",
       "    }\n",
       "\n",
       "    .dataframe thead th {\n",
       "        text-align: right;\n",
       "    }\n",
       "</style>\n",
       "<table border=\"1\" class=\"dataframe\">\n",
       "  <thead>\n",
       "    <tr style=\"text-align: right;\">\n",
       "      <th></th>\n",
       "      <th>dt</th>\n",
       "      <th>temp</th>\n",
       "      <th>humidity</th>\n",
       "      <th>wind_speed</th>\n",
       "    </tr>\n",
       "  </thead>\n",
       "  <tbody>\n",
       "    <tr>\n",
       "      <th>0</th>\n",
       "      <td>1635984000</td>\n",
       "      <td>276.97</td>\n",
       "      <td>79</td>\n",
       "      <td>0.45</td>\n",
       "    </tr>\n",
       "    <tr>\n",
       "      <th>1</th>\n",
       "      <td>1635987600</td>\n",
       "      <td>275.80</td>\n",
       "      <td>84</td>\n",
       "      <td>0.45</td>\n",
       "    </tr>\n",
       "    <tr>\n",
       "      <th>2</th>\n",
       "      <td>1635991200</td>\n",
       "      <td>274.67</td>\n",
       "      <td>87</td>\n",
       "      <td>0.45</td>\n",
       "    </tr>\n",
       "    <tr>\n",
       "      <th>3</th>\n",
       "      <td>1635994800</td>\n",
       "      <td>273.83</td>\n",
       "      <td>89</td>\n",
       "      <td>1.86</td>\n",
       "    </tr>\n",
       "    <tr>\n",
       "      <th>4</th>\n",
       "      <td>1635998400</td>\n",
       "      <td>273.56</td>\n",
       "      <td>90</td>\n",
       "      <td>0.45</td>\n",
       "    </tr>\n",
       "    <tr>\n",
       "      <th>...</th>\n",
       "      <td>...</td>\n",
       "      <td>...</td>\n",
       "      <td>...</td>\n",
       "      <td>...</td>\n",
       "    </tr>\n",
       "    <tr>\n",
       "      <th>19</th>\n",
       "      <td>1635706800</td>\n",
       "      <td>289.88</td>\n",
       "      <td>71</td>\n",
       "      <td>0.89</td>\n",
       "    </tr>\n",
       "    <tr>\n",
       "      <th>20</th>\n",
       "      <td>1635710400</td>\n",
       "      <td>289.02</td>\n",
       "      <td>74</td>\n",
       "      <td>0.45</td>\n",
       "    </tr>\n",
       "    <tr>\n",
       "      <th>21</th>\n",
       "      <td>1635714000</td>\n",
       "      <td>288.02</td>\n",
       "      <td>79</td>\n",
       "      <td>0.89</td>\n",
       "    </tr>\n",
       "    <tr>\n",
       "      <th>22</th>\n",
       "      <td>1635717600</td>\n",
       "      <td>287.14</td>\n",
       "      <td>82</td>\n",
       "      <td>0.89</td>\n",
       "    </tr>\n",
       "    <tr>\n",
       "      <th>23</th>\n",
       "      <td>1635721200</td>\n",
       "      <td>286.44</td>\n",
       "      <td>85</td>\n",
       "      <td>0.45</td>\n",
       "    </tr>\n",
       "  </tbody>\n",
       "</table>\n",
       "<p>120 rows × 4 columns</p>\n",
       "</div>"
      ],
      "text/plain": [
       "            dt    temp humidity  wind_speed\n",
       "0   1635984000  276.97       79        0.45\n",
       "1   1635987600  275.80       84        0.45\n",
       "2   1635991200  274.67       87        0.45\n",
       "3   1635994800  273.83       89        1.86\n",
       "4   1635998400  273.56       90        0.45\n",
       "..         ...     ...      ...         ...\n",
       "19  1635706800  289.88       71        0.89\n",
       "20  1635710400  289.02       74        0.45\n",
       "21  1635714000  288.02       79        0.89\n",
       "22  1635717600  287.14       82        0.89\n",
       "23  1635721200  286.44       85        0.45\n",
       "\n",
       "[120 rows x 4 columns]"
      ]
     },
     "execution_count": 5,
     "metadata": {},
     "output_type": "execute_result"
    }
   ],
   "source": [
    "df_final\n",
    "#df['A'].transform(add_2)\n",
    "\n",
    "#datetime.datetime.utcfromtimestamp(posix_time).strftime('%Y-%m-%dT%H:%M:%SZ')"
   ]
  },
  {
   "cell_type": "code",
   "execution_count": 6,
   "metadata": {},
   "outputs": [],
   "source": [
    "# get the date and time of the last 5 days, convert to unixtime\n",
    "\n",
    "#for eatch unix date get the wether for manchester on that day, append that data to the df\n",
    "\n",
    "# take the average temp"
   ]
  }
 ],
 "metadata": {
  "interpreter": {
   "hash": "e7370f93d1d0cde622a1f8e1c04877d8463912d04d973331ad4851f04de6915a"
  },
  "kernelspec": {
   "display_name": "Python 3.9.7 64-bit",
   "name": "python3"
  },
  "language_info": {
   "codemirror_mode": {
    "name": "ipython",
    "version": 3
   },
   "file_extension": ".py",
   "mimetype": "text/x-python",
   "name": "python",
   "nbconvert_exporter": "python",
   "pygments_lexer": "ipython3",
   "version": "3.9.7"
  },
  "orig_nbformat": 4
 },
 "nbformat": 4,
 "nbformat_minor": 2
}
