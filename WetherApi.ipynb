{
 "cells": [
  {
   "cell_type": "markdown",
   "metadata": {},
   "source": [
    "## This section starts us off (api query and processing) \n",
    "* This section loops through 5 dates and gets the hrly temp, humidity and wind_speed for 5 days"
   ]
  },
  {
   "cell_type": "code",
   "execution_count": 1,
   "metadata": {},
   "outputs": [],
   "source": [
    "'''\n",
    "The new goal of my project is to: calculate the average temp in manchester over the last 5 days and graph it\n",
    "'''\n",
    "# unix time calculator -0> https://www.vultr.com/resources/unix-time-calculator/?convert=date&date_day=27&date_month=10&date_year=2021&date_hour=12&date_minute=00&date_second=00&date_tz_from=UTC&date_tz_to=UTC&date_format=Y-m-d+H%3Ai%3As\n",
    "\n",
    "import requests, json, datetime, pandas as pd\n",
    "\n",
    "df_final = pd.DataFrame(columns=['dt', 'temp', 'humidity', 'wind_speed']) # inititalisation of final dataframe\n",
    "last_5_days = []\n",
    "\n",
    "for x in range(0,5): # gets current date and time delta in unixtime\n",
    "    unix_date_time = (datetime.datetime.today() - datetime.timedelta(x)).strftime(\"%s\") \n",
    "    last_5_days.append(unix_date_time)\n",
    "\n",
    "\n"
   ]
  },
  {
   "cell_type": "markdown",
   "metadata": {},
   "source": [
    "### Manchester dataframe processing\n",
    "\n",
    "* this gets all the data for the city of manchester, condences it to what we care about and puts it in a dataframe"
   ]
  },
  {
   "cell_type": "code",
   "execution_count": 2,
   "metadata": {},
   "outputs": [
    {
     "data": {
      "text/html": [
       "<div>\n",
       "<style scoped>\n",
       "    .dataframe tbody tr th:only-of-type {\n",
       "        vertical-align: middle;\n",
       "    }\n",
       "\n",
       "    .dataframe tbody tr th {\n",
       "        vertical-align: top;\n",
       "    }\n",
       "\n",
       "    .dataframe thead th {\n",
       "        text-align: right;\n",
       "    }\n",
       "</style>\n",
       "<table border=\"1\" class=\"dataframe\">\n",
       "  <thead>\n",
       "    <tr style=\"text-align: right;\">\n",
       "      <th></th>\n",
       "      <th>dt</th>\n",
       "      <th>temp</th>\n",
       "      <th>humidity</th>\n",
       "      <th>wind_speed</th>\n",
       "      <th>city</th>\n",
       "      <th>id</th>\n",
       "    </tr>\n",
       "  </thead>\n",
       "  <tbody>\n",
       "    <tr>\n",
       "      <th>0</th>\n",
       "      <td>1638489600</td>\n",
       "      <td>281.50</td>\n",
       "      <td>90</td>\n",
       "      <td>0.89</td>\n",
       "      <td>Manchester</td>\n",
       "      <td>899279017124388724</td>\n",
       "    </tr>\n",
       "    <tr>\n",
       "      <th>1</th>\n",
       "      <td>1638493200</td>\n",
       "      <td>281.35</td>\n",
       "      <td>89</td>\n",
       "      <td>1.34</td>\n",
       "      <td>Manchester</td>\n",
       "      <td>1591031260181523843</td>\n",
       "    </tr>\n",
       "    <tr>\n",
       "      <th>2</th>\n",
       "      <td>1638496800</td>\n",
       "      <td>280.73</td>\n",
       "      <td>91</td>\n",
       "      <td>1.79</td>\n",
       "      <td>Manchester</td>\n",
       "      <td>1199038322449152917</td>\n",
       "    </tr>\n",
       "    <tr>\n",
       "      <th>3</th>\n",
       "      <td>1638500400</td>\n",
       "      <td>279.20</td>\n",
       "      <td>91</td>\n",
       "      <td>0.89</td>\n",
       "      <td>Manchester</td>\n",
       "      <td>207526224311454115</td>\n",
       "    </tr>\n",
       "    <tr>\n",
       "      <th>4</th>\n",
       "      <td>1638504000</td>\n",
       "      <td>278.41</td>\n",
       "      <td>92</td>\n",
       "      <td>0.45</td>\n",
       "      <td>Manchester</td>\n",
       "      <td>1983025297425536946</td>\n",
       "    </tr>\n",
       "    <tr>\n",
       "      <th>...</th>\n",
       "      <td>...</td>\n",
       "      <td>...</td>\n",
       "      <td>...</td>\n",
       "      <td>...</td>\n",
       "      <td>...</td>\n",
       "      <td>...</td>\n",
       "    </tr>\n",
       "    <tr>\n",
       "      <th>19</th>\n",
       "      <td>1638212400</td>\n",
       "      <td>275.87</td>\n",
       "      <td>50</td>\n",
       "      <td>1.79</td>\n",
       "      <td>Manchester</td>\n",
       "      <td>1521856035875529847</td>\n",
       "    </tr>\n",
       "    <tr>\n",
       "      <th>20</th>\n",
       "      <td>1638216000</td>\n",
       "      <td>274.90</td>\n",
       "      <td>53</td>\n",
       "      <td>2.68</td>\n",
       "      <td>Manchester</td>\n",
       "      <td>1337389320816112266</td>\n",
       "    </tr>\n",
       "    <tr>\n",
       "      <th>21</th>\n",
       "      <td>1638219600</td>\n",
       "      <td>273.49</td>\n",
       "      <td>61</td>\n",
       "      <td>1.79</td>\n",
       "      <td>Manchester</td>\n",
       "      <td>645635978247356576</td>\n",
       "    </tr>\n",
       "    <tr>\n",
       "      <th>22</th>\n",
       "      <td>1638223200</td>\n",
       "      <td>272.43</td>\n",
       "      <td>64</td>\n",
       "      <td>1.79</td>\n",
       "      <td>Manchester</td>\n",
       "      <td>507285529635933874</td>\n",
       "    </tr>\n",
       "    <tr>\n",
       "      <th>23</th>\n",
       "      <td>1638226800</td>\n",
       "      <td>271.88</td>\n",
       "      <td>64</td>\n",
       "      <td>1.79</td>\n",
       "      <td>Manchester</td>\n",
       "      <td>1544914993733262529</td>\n",
       "    </tr>\n",
       "  </tbody>\n",
       "</table>\n",
       "<p>119 rows × 6 columns</p>\n",
       "</div>"
      ],
      "text/plain": [
       "            dt    temp humidity  wind_speed        city                   id\n",
       "0   1638489600  281.50       90        0.89  Manchester   899279017124388724\n",
       "1   1638493200  281.35       89        1.34  Manchester  1591031260181523843\n",
       "2   1638496800  280.73       91        1.79  Manchester  1199038322449152917\n",
       "3   1638500400  279.20       91        0.89  Manchester   207526224311454115\n",
       "4   1638504000  278.41       92        0.45  Manchester  1983025297425536946\n",
       "..         ...     ...      ...         ...         ...                  ...\n",
       "19  1638212400  275.87       50        1.79  Manchester  1521856035875529847\n",
       "20  1638216000  274.90       53        2.68  Manchester  1337389320816112266\n",
       "21  1638219600  273.49       61        1.79  Manchester   645635978247356576\n",
       "22  1638223200  272.43       64        1.79  Manchester   507285529635933874\n",
       "23  1638226800  271.88       64        1.79  Manchester  1544914993733262529\n",
       "\n",
       "[119 rows x 6 columns]"
      ]
     },
     "execution_count": 2,
     "metadata": {},
     "output_type": "execute_result"
    }
   ],
   "source": [
    "df_final_manchester = pd.DataFrame(columns=['dt', 'temp', 'humidity', 'wind_speed']) # inititalisation of final dataframe\n",
    "\n",
    "for day in last_5_days: # gets the json from the api, processes it into a df and appends it to the final frame. ownly takes 4 columbs\n",
    "    response_manchester = requests.get(\"http://api.openweathermap.org/data/2.5/onecall/timemachine?lat=42.9956&lon=-71.4548&dt=\"+ day +\"&appid=fd3ef9b217de69f13fde1bd0325da289\")\n",
    "    \n",
    "    processed_responce_manchester = response_manchester.json() # gets json\n",
    "    \n",
    "    df_raw_manchester = pd.DataFrame(processed_responce_manchester['hourly']) # json -> df from the \"hourly\" list\n",
    "    \n",
    "    df_processed_manchester = df_raw_manchester[[\"dt\",\"temp\", \"humidity\", \"wind_speed\"]].copy() # cuts df down to what we want ownly\n",
    "    \n",
    "    df_final_manchester = df_final_manchester.append(df_processed_manchester) # appends to the final df\n",
    "\n",
    "df_final_manchester.insert(loc=len(df_final_manchester.columns), column='city', value='Manchester')\n",
    "\n",
    "df_final_manchester['id'] = df_final_manchester[['dt', 'temp', 'humidity', 'wind_speed',]].sum(axis=1).map(hash)\n",
    "\n",
    "df_final_manchester#.shape "
   ]
  },
  {
   "cell_type": "markdown",
   "metadata": {},
   "source": [
    "### Concord data processing\n",
    "\n",
    "* this gets all the data for the city of concord, condences it to what we care about and puts it in a dataframe"
   ]
  },
  {
   "cell_type": "code",
   "execution_count": 3,
   "metadata": {},
   "outputs": [
    {
     "data": {
      "text/html": [
       "<div>\n",
       "<style scoped>\n",
       "    .dataframe tbody tr th:only-of-type {\n",
       "        vertical-align: middle;\n",
       "    }\n",
       "\n",
       "    .dataframe tbody tr th {\n",
       "        vertical-align: top;\n",
       "    }\n",
       "\n",
       "    .dataframe thead th {\n",
       "        text-align: right;\n",
       "    }\n",
       "</style>\n",
       "<table border=\"1\" class=\"dataframe\">\n",
       "  <thead>\n",
       "    <tr style=\"text-align: right;\">\n",
       "      <th></th>\n",
       "      <th>dt</th>\n",
       "      <th>temp</th>\n",
       "      <th>humidity</th>\n",
       "      <th>wind_speed</th>\n",
       "      <th>city</th>\n",
       "      <th>id</th>\n",
       "    </tr>\n",
       "  </thead>\n",
       "  <tbody>\n",
       "    <tr>\n",
       "      <th>0</th>\n",
       "      <td>1638489600</td>\n",
       "      <td>281.07</td>\n",
       "      <td>96</td>\n",
       "      <td>1.34</td>\n",
       "      <td>Concord</td>\n",
       "      <td>945395283572383610</td>\n",
       "    </tr>\n",
       "    <tr>\n",
       "      <th>1</th>\n",
       "      <td>1638493200</td>\n",
       "      <td>280.67</td>\n",
       "      <td>96</td>\n",
       "      <td>2.68</td>\n",
       "      <td>Concord</td>\n",
       "      <td>807045384716774795</td>\n",
       "    </tr>\n",
       "    <tr>\n",
       "      <th>2</th>\n",
       "      <td>1638496800</td>\n",
       "      <td>280.19</td>\n",
       "      <td>95</td>\n",
       "      <td>3.60</td>\n",
       "      <td>Concord</td>\n",
       "      <td>1821615890956385178</td>\n",
       "    </tr>\n",
       "    <tr>\n",
       "      <th>3</th>\n",
       "      <td>1638500400</td>\n",
       "      <td>278.80</td>\n",
       "      <td>94</td>\n",
       "      <td>2.06</td>\n",
       "      <td>Concord</td>\n",
       "      <td>1983024747669719462</td>\n",
       "    </tr>\n",
       "    <tr>\n",
       "      <th>4</th>\n",
       "      <td>1638504000</td>\n",
       "      <td>278.33</td>\n",
       "      <td>94</td>\n",
       "      <td>2.06</td>\n",
       "      <td>Concord</td>\n",
       "      <td>899278467368589238</td>\n",
       "    </tr>\n",
       "    <tr>\n",
       "      <th>...</th>\n",
       "      <td>...</td>\n",
       "      <td>...</td>\n",
       "      <td>...</td>\n",
       "      <td>...</td>\n",
       "      <td>...</td>\n",
       "      <td>...</td>\n",
       "    </tr>\n",
       "    <tr>\n",
       "      <th>19</th>\n",
       "      <td>1638212400</td>\n",
       "      <td>275.56</td>\n",
       "      <td>51</td>\n",
       "      <td>5.66</td>\n",
       "      <td>Concord</td>\n",
       "      <td>507285529635923068</td>\n",
       "    </tr>\n",
       "    <tr>\n",
       "      <th>20</th>\n",
       "      <td>1638216000</td>\n",
       "      <td>274.64</td>\n",
       "      <td>56</td>\n",
       "      <td>6.17</td>\n",
       "      <td>Concord</td>\n",
       "      <td>1867733256915726992</td>\n",
       "    </tr>\n",
       "    <tr>\n",
       "      <th>21</th>\n",
       "      <td>1638219600</td>\n",
       "      <td>273.57</td>\n",
       "      <td>60</td>\n",
       "      <td>5.66</td>\n",
       "      <td>Concord</td>\n",
       "      <td>530343937737834659</td>\n",
       "    </tr>\n",
       "    <tr>\n",
       "      <th>22</th>\n",
       "      <td>1638223200</td>\n",
       "      <td>272.24</td>\n",
       "      <td>64</td>\n",
       "      <td>3.09</td>\n",
       "      <td>Concord</td>\n",
       "      <td>760928018756882099</td>\n",
       "    </tr>\n",
       "    <tr>\n",
       "      <th>23</th>\n",
       "      <td>1638226800</td>\n",
       "      <td>271.58</td>\n",
       "      <td>63</td>\n",
       "      <td>3.09</td>\n",
       "      <td>Concord</td>\n",
       "      <td>1544914443977448641</td>\n",
       "    </tr>\n",
       "  </tbody>\n",
       "</table>\n",
       "<p>119 rows × 6 columns</p>\n",
       "</div>"
      ],
      "text/plain": [
       "            dt    temp humidity  wind_speed     city                   id\n",
       "0   1638489600  281.07       96        1.34  Concord   945395283572383610\n",
       "1   1638493200  280.67       96        2.68  Concord   807045384716774795\n",
       "2   1638496800  280.19       95        3.60  Concord  1821615890956385178\n",
       "3   1638500400  278.80       94        2.06  Concord  1983024747669719462\n",
       "4   1638504000  278.33       94        2.06  Concord   899278467368589238\n",
       "..         ...     ...      ...         ...      ...                  ...\n",
       "19  1638212400  275.56       51        5.66  Concord   507285529635923068\n",
       "20  1638216000  274.64       56        6.17  Concord  1867733256915726992\n",
       "21  1638219600  273.57       60        5.66  Concord   530343937737834659\n",
       "22  1638223200  272.24       64        3.09  Concord   760928018756882099\n",
       "23  1638226800  271.58       63        3.09  Concord  1544914443977448641\n",
       "\n",
       "[119 rows x 6 columns]"
      ]
     },
     "execution_count": 3,
     "metadata": {},
     "output_type": "execute_result"
    }
   ],
   "source": [
    "df_final_concord = pd.DataFrame(columns=['dt', 'temp', 'humidity', 'wind_speed']) # inititalisation of final dataframe\n",
    "\n",
    "for day in last_5_days: # gets the json from the api, processes it into a df and appends it to the final frame. ownly takes 4 columbs\n",
    "    response_concord = requests.get(\"http://api.openweathermap.org/data/2.5/onecall/timemachine?lat=43.2081&lon=-71.5376&dt=\"+ day +\"&appid=fd3ef9b217de69f13fde1bd0325da289\")\n",
    "    \n",
    "    processed_responce_concord = response_concord.json() # gets json\n",
    "    \n",
    "    df_raw_concord = pd.DataFrame(processed_responce_concord['hourly']) # json -> df from the \"hourly\" list\n",
    "    \n",
    "    df_processed_concord = df_raw_concord[[\"dt\",\"temp\", \"humidity\", \"wind_speed\"]].copy() # cuts df down to what we want ownly\n",
    "    \n",
    "    df_final_concord = df_final_concord.append(df_processed_concord) # appends to the final df\n",
    "\n",
    "df_final_concord.insert(loc=len(df_final_concord.columns), column='city', value='Concord')\n",
    "\n",
    "df_final_concord['id'] = df_final_concord[['dt', 'temp', 'humidity', 'wind_speed',]].sum(axis=1).map(hash)\n",
    "\n",
    "df_final_concord #.shape "
   ]
  },
  {
   "cell_type": "markdown",
   "metadata": {},
   "source": [
    "## Keen data processing\n",
    "* this gets all the data for the city of Keen, condences it to what we care about and puts it in a dataframe"
   ]
  },
  {
   "cell_type": "code",
   "execution_count": 4,
   "metadata": {},
   "outputs": [
    {
     "data": {
      "text/html": [
       "<div>\n",
       "<style scoped>\n",
       "    .dataframe tbody tr th:only-of-type {\n",
       "        vertical-align: middle;\n",
       "    }\n",
       "\n",
       "    .dataframe tbody tr th {\n",
       "        vertical-align: top;\n",
       "    }\n",
       "\n",
       "    .dataframe thead th {\n",
       "        text-align: right;\n",
       "    }\n",
       "</style>\n",
       "<table border=\"1\" class=\"dataframe\">\n",
       "  <thead>\n",
       "    <tr style=\"text-align: right;\">\n",
       "      <th></th>\n",
       "      <th>dt</th>\n",
       "      <th>temp</th>\n",
       "      <th>humidity</th>\n",
       "      <th>wind_speed</th>\n",
       "      <th>city</th>\n",
       "      <th>id</th>\n",
       "    </tr>\n",
       "  </thead>\n",
       "  <tbody>\n",
       "    <tr>\n",
       "      <th>0</th>\n",
       "      <td>1638489600</td>\n",
       "      <td>281.69</td>\n",
       "      <td>84</td>\n",
       "      <td>6.45</td>\n",
       "      <td>keen</td>\n",
       "      <td>322818264820965236</td>\n",
       "    </tr>\n",
       "    <tr>\n",
       "      <th>1</th>\n",
       "      <td>1638493200</td>\n",
       "      <td>280.70</td>\n",
       "      <td>86</td>\n",
       "      <td>7.53</td>\n",
       "      <td>keen</td>\n",
       "      <td>530343937738108294</td>\n",
       "    </tr>\n",
       "    <tr>\n",
       "      <th>2</th>\n",
       "      <td>1638496800</td>\n",
       "      <td>277.78</td>\n",
       "      <td>84</td>\n",
       "      <td>6.76</td>\n",
       "      <td>keen</td>\n",
       "      <td>1245155138652961680</td>\n",
       "    </tr>\n",
       "    <tr>\n",
       "      <th>3</th>\n",
       "      <td>1638500400</td>\n",
       "      <td>277.24</td>\n",
       "      <td>82</td>\n",
       "      <td>6.51</td>\n",
       "      <td>keen</td>\n",
       "      <td>1729382258548771229</td>\n",
       "    </tr>\n",
       "    <tr>\n",
       "      <th>4</th>\n",
       "      <td>1638504000</td>\n",
       "      <td>277.49</td>\n",
       "      <td>79</td>\n",
       "      <td>6.65</td>\n",
       "      <td>keen</td>\n",
       "      <td>322818264820979627</td>\n",
       "    </tr>\n",
       "    <tr>\n",
       "      <th>...</th>\n",
       "      <td>...</td>\n",
       "      <td>...</td>\n",
       "      <td>...</td>\n",
       "      <td>...</td>\n",
       "      <td>...</td>\n",
       "      <td>...</td>\n",
       "    </tr>\n",
       "    <tr>\n",
       "      <th>19</th>\n",
       "      <td>1638212400</td>\n",
       "      <td>271.73</td>\n",
       "      <td>79</td>\n",
       "      <td>4.67</td>\n",
       "      <td>keen</td>\n",
       "      <td>922337425226015891</td>\n",
       "    </tr>\n",
       "    <tr>\n",
       "      <th>20</th>\n",
       "      <td>1638216000</td>\n",
       "      <td>271.50</td>\n",
       "      <td>76</td>\n",
       "      <td>4.05</td>\n",
       "      <td>keen</td>\n",
       "      <td>1268213546754585247</td>\n",
       "    </tr>\n",
       "    <tr>\n",
       "      <th>21</th>\n",
       "      <td>1638219600</td>\n",
       "      <td>271.26</td>\n",
       "      <td>75</td>\n",
       "      <td>3.66</td>\n",
       "      <td>keen</td>\n",
       "      <td>2121375746036678829</td>\n",
       "    </tr>\n",
       "    <tr>\n",
       "      <th>22</th>\n",
       "      <td>1638223200</td>\n",
       "      <td>269.93</td>\n",
       "      <td>78</td>\n",
       "      <td>3.07</td>\n",
       "      <td>keen</td>\n",
       "      <td>1638223551</td>\n",
       "    </tr>\n",
       "    <tr>\n",
       "      <th>23</th>\n",
       "      <td>1638226800</td>\n",
       "      <td>268.80</td>\n",
       "      <td>83</td>\n",
       "      <td>3.08</td>\n",
       "      <td>keen</td>\n",
       "      <td>2029141563873254610</td>\n",
       "    </tr>\n",
       "  </tbody>\n",
       "</table>\n",
       "<p>119 rows × 6 columns</p>\n",
       "</div>"
      ],
      "text/plain": [
       "            dt    temp humidity  wind_speed  city                   id\n",
       "0   1638489600  281.69       84        6.45  keen   322818264820965236\n",
       "1   1638493200  280.70       86        7.53  keen   530343937738108294\n",
       "2   1638496800  277.78       84        6.76  keen  1245155138652961680\n",
       "3   1638500400  277.24       82        6.51  keen  1729382258548771229\n",
       "4   1638504000  277.49       79        6.65  keen   322818264820979627\n",
       "..         ...     ...      ...         ...   ...                  ...\n",
       "19  1638212400  271.73       79        4.67  keen   922337425226015891\n",
       "20  1638216000  271.50       76        4.05  keen  1268213546754585247\n",
       "21  1638219600  271.26       75        3.66  keen  2121375746036678829\n",
       "22  1638223200  269.93       78        3.07  keen           1638223551\n",
       "23  1638226800  268.80       83        3.08  keen  2029141563873254610\n",
       "\n",
       "[119 rows x 6 columns]"
      ]
     },
     "execution_count": 4,
     "metadata": {},
     "output_type": "execute_result"
    }
   ],
   "source": [
    "df_final_keen = pd.DataFrame(columns=['dt', 'temp', 'humidity', 'wind_speed']) # inititalisation of final dataframe\n",
    "\n",
    "for day in last_5_days: # gets the json from the api, processes it into a df and appends it to the final frame. ownly takes 4 columbs\n",
    "    response_keen = requests.get(\"http://api.openweathermap.org/data/2.5/onecall/timemachine?lat=41.5929&lon=-75.3738&dt=\"+ day +\"&appid=fd3ef9b217de69f13fde1bd0325da289\")\n",
    "    \n",
    "    processed_responce_keen = response_keen.json() # gets json\n",
    "    \n",
    "    df_raw_keen = pd.DataFrame(processed_responce_keen['hourly']) # json -> df from the \"hourly\" list\n",
    "    \n",
    "    df_processed_keen = df_raw_keen[[\"dt\",\"temp\", \"humidity\", \"wind_speed\"]].copy() # cuts df down to what we want ownly\n",
    "    \n",
    "    df_final_keen = df_final_keen.append(df_processed_keen) # appends to the final df\n",
    "\n",
    "df_final_keen.insert(loc=len(df_final_keen.columns), column='city', value='keen')\n",
    "\n",
    "#df_final_keen['id'].apply(lambda x : df_final_keen[x] = hash)\n",
    "\n",
    "#df['a'] = df['a'].apply(lambda x: x + 1)\n",
    "\n",
    "df_final_keen['id'] = df_final_keen[['dt', 'temp', 'humidity', 'wind_speed',]].sum(axis=1).map(hash)\n",
    "\n",
    "\n",
    "\n",
    "df_final_keen #.shape"
   ]
  },
  {
   "cell_type": "markdown",
   "metadata": {},
   "source": [
    "## Merge the 3 newly ceated data frames\n",
    "* This section uses a concat() to mreg the 3 newly made dataframes because all the columbs are the same"
   ]
  },
  {
   "cell_type": "code",
   "execution_count": 5,
   "metadata": {},
   "outputs": [
    {
     "data": {
      "text/html": [
       "<div>\n",
       "<style scoped>\n",
       "    .dataframe tbody tr th:only-of-type {\n",
       "        vertical-align: middle;\n",
       "    }\n",
       "\n",
       "    .dataframe tbody tr th {\n",
       "        vertical-align: top;\n",
       "    }\n",
       "\n",
       "    .dataframe thead th {\n",
       "        text-align: right;\n",
       "    }\n",
       "</style>\n",
       "<table border=\"1\" class=\"dataframe\">\n",
       "  <thead>\n",
       "    <tr style=\"text-align: right;\">\n",
       "      <th></th>\n",
       "      <th>dt</th>\n",
       "      <th>temp</th>\n",
       "      <th>humidity</th>\n",
       "      <th>wind_speed</th>\n",
       "      <th>city</th>\n",
       "      <th>id</th>\n",
       "    </tr>\n",
       "  </thead>\n",
       "  <tbody>\n",
       "    <tr>\n",
       "      <th>0</th>\n",
       "      <td>1638489600</td>\n",
       "      <td>281.50</td>\n",
       "      <td>90</td>\n",
       "      <td>0.89</td>\n",
       "      <td>Manchester</td>\n",
       "      <td>899279017124388724</td>\n",
       "    </tr>\n",
       "    <tr>\n",
       "      <th>1</th>\n",
       "      <td>1638493200</td>\n",
       "      <td>281.35</td>\n",
       "      <td>89</td>\n",
       "      <td>1.34</td>\n",
       "      <td>Manchester</td>\n",
       "      <td>1591031260181523843</td>\n",
       "    </tr>\n",
       "    <tr>\n",
       "      <th>2</th>\n",
       "      <td>1638496800</td>\n",
       "      <td>280.73</td>\n",
       "      <td>91</td>\n",
       "      <td>1.79</td>\n",
       "      <td>Manchester</td>\n",
       "      <td>1199038322449152917</td>\n",
       "    </tr>\n",
       "    <tr>\n",
       "      <th>3</th>\n",
       "      <td>1638500400</td>\n",
       "      <td>279.20</td>\n",
       "      <td>91</td>\n",
       "      <td>0.89</td>\n",
       "      <td>Manchester</td>\n",
       "      <td>207526224311454115</td>\n",
       "    </tr>\n",
       "    <tr>\n",
       "      <th>4</th>\n",
       "      <td>1638504000</td>\n",
       "      <td>278.41</td>\n",
       "      <td>92</td>\n",
       "      <td>0.45</td>\n",
       "      <td>Manchester</td>\n",
       "      <td>1983025297425536946</td>\n",
       "    </tr>\n",
       "    <tr>\n",
       "      <th>...</th>\n",
       "      <td>...</td>\n",
       "      <td>...</td>\n",
       "      <td>...</td>\n",
       "      <td>...</td>\n",
       "      <td>...</td>\n",
       "      <td>...</td>\n",
       "    </tr>\n",
       "    <tr>\n",
       "      <th>19</th>\n",
       "      <td>1638212400</td>\n",
       "      <td>275.56</td>\n",
       "      <td>51</td>\n",
       "      <td>5.66</td>\n",
       "      <td>Concord</td>\n",
       "      <td>507285529635923068</td>\n",
       "    </tr>\n",
       "    <tr>\n",
       "      <th>20</th>\n",
       "      <td>1638216000</td>\n",
       "      <td>274.64</td>\n",
       "      <td>56</td>\n",
       "      <td>6.17</td>\n",
       "      <td>Concord</td>\n",
       "      <td>1867733256915726992</td>\n",
       "    </tr>\n",
       "    <tr>\n",
       "      <th>21</th>\n",
       "      <td>1638219600</td>\n",
       "      <td>273.57</td>\n",
       "      <td>60</td>\n",
       "      <td>5.66</td>\n",
       "      <td>Concord</td>\n",
       "      <td>530343937737834659</td>\n",
       "    </tr>\n",
       "    <tr>\n",
       "      <th>22</th>\n",
       "      <td>1638223200</td>\n",
       "      <td>272.24</td>\n",
       "      <td>64</td>\n",
       "      <td>3.09</td>\n",
       "      <td>Concord</td>\n",
       "      <td>760928018756882099</td>\n",
       "    </tr>\n",
       "    <tr>\n",
       "      <th>23</th>\n",
       "      <td>1638226800</td>\n",
       "      <td>271.58</td>\n",
       "      <td>63</td>\n",
       "      <td>3.09</td>\n",
       "      <td>Concord</td>\n",
       "      <td>1544914443977448641</td>\n",
       "    </tr>\n",
       "  </tbody>\n",
       "</table>\n",
       "<p>357 rows × 6 columns</p>\n",
       "</div>"
      ],
      "text/plain": [
       "            dt    temp humidity  wind_speed        city                   id\n",
       "0   1638489600  281.50       90        0.89  Manchester   899279017124388724\n",
       "1   1638493200  281.35       89        1.34  Manchester  1591031260181523843\n",
       "2   1638496800  280.73       91        1.79  Manchester  1199038322449152917\n",
       "3   1638500400  279.20       91        0.89  Manchester   207526224311454115\n",
       "4   1638504000  278.41       92        0.45  Manchester  1983025297425536946\n",
       "..         ...     ...      ...         ...         ...                  ...\n",
       "19  1638212400  275.56       51        5.66     Concord   507285529635923068\n",
       "20  1638216000  274.64       56        6.17     Concord  1867733256915726992\n",
       "21  1638219600  273.57       60        5.66     Concord   530343937737834659\n",
       "22  1638223200  272.24       64        3.09     Concord   760928018756882099\n",
       "23  1638226800  271.58       63        3.09     Concord  1544914443977448641\n",
       "\n",
       "[357 rows x 6 columns]"
      ]
     },
     "execution_count": 5,
     "metadata": {},
     "output_type": "execute_result"
    }
   ],
   "source": [
    "df_big = pd.concat([df_final_manchester, df_final_keen, df_final_concord], axis=0)\n",
    "df_big"
   ]
  },
  {
   "cell_type": "markdown",
   "metadata": {},
   "source": [
    "## CSV producuction\n",
    "* thats it, its just a csv file"
   ]
  },
  {
   "cell_type": "code",
   "execution_count": 6,
   "metadata": {},
   "outputs": [],
   "source": [
    "df_big.to_csv(r'/home/anthony/Documents/programing-materals/comp574/DataProject/export_dataframe.csv', index = False, header=True)"
   ]
  },
  {
   "cell_type": "markdown",
   "metadata": {},
   "source": [
    "### Questions\n",
    "* Whats the average temp for eatch city? : the average tempature for each city will be obtained by bringing in the data for the last 5 days. eatch day comes in as its own df so they need to be concatinated together. Then unessisary inforamtion will be stripped before all 3 (eatch city having its own df) are concatinated together, there temps converted to ferinheigt and the average will be taken from eatch using a group by function for presentation. this is reuesed in the temp variance section\n",
    "\n",
    "* whats the The average wind speed for eatch city? : The average wind speed looks similar to the average tempature and so does the process of obtaining it. each day is brought in and made into a df, those are combined and stripped of extraious info and then grouped by city before the averages are taken. the windspeed in done in knots so no conversion is needed. \n",
    "\n",
    "* Whats the aveage humidity for eatch city? : The process for this value is the same as the previous two. take the days in, combine them, strip extraious data, combine. No conversion nessisary beciasue its a percentage. group by city and average.\n",
    "### graphing questions \n",
    "* Is there any corilations in the data between the 3 averages? : To get this,I took my large DF that contined all the inforamtion for all the cities, droped the date, city and id from the data so Ownly the data i cared about was available and corilated it. I wanted to know if there was any conrilations in the data between temp and wind speed as after wating the news i wanted to know how close the \"feels like\" temps were to the actual reality in cooling the regon and if that could affect a regon becuase if there was indeed any corilation it should be visable. there was no corilation in this way and that makes me sad becuase that would have nbean interesting to look at/\n",
    "\n",
    "* whitch city has the highist average temp fopr the last 5 days? : Building this was a pain in the tail. for this I ha dto learn to use where to select all the data from the big df that i wanted (all the city data), drop the resulting NA value and average the temp for that city, cram that into its own varable for eatch city then create a new df with all those averages with the correct city names. looks like this week manchester was the warmist becasue its winter and all the nigtly temps are cold and the average comes out really low. last week keen was the warmist. or at least at time of wrigting."
   ]
  },
  {
   "cell_type": "markdown",
   "metadata": {},
   "source": [
    "## Convert's to ferinheight\n",
    "* This section take's our concatinated df and converts everything to readable format (ferinheight)\n",
    "* This also converts our unix timestamp to a readable date format"
   ]
  },
  {
   "cell_type": "code",
   "execution_count": 7,
   "metadata": {},
   "outputs": [
    {
     "data": {
      "text/html": [
       "<div>\n",
       "<style scoped>\n",
       "    .dataframe tbody tr th:only-of-type {\n",
       "        vertical-align: middle;\n",
       "    }\n",
       "\n",
       "    .dataframe tbody tr th {\n",
       "        vertical-align: top;\n",
       "    }\n",
       "\n",
       "    .dataframe thead th {\n",
       "        text-align: right;\n",
       "    }\n",
       "</style>\n",
       "<table border=\"1\" class=\"dataframe\">\n",
       "  <thead>\n",
       "    <tr style=\"text-align: right;\">\n",
       "      <th></th>\n",
       "      <th>dt</th>\n",
       "      <th>temp</th>\n",
       "      <th>humidity</th>\n",
       "      <th>wind_speed</th>\n",
       "      <th>city</th>\n",
       "      <th>id</th>\n",
       "    </tr>\n",
       "  </thead>\n",
       "  <tbody>\n",
       "    <tr>\n",
       "      <th>0</th>\n",
       "      <td>12/03/2021</td>\n",
       "      <td>8.50</td>\n",
       "      <td>90</td>\n",
       "      <td>0.89</td>\n",
       "      <td>Manchester</td>\n",
       "      <td>899279017124388724</td>\n",
       "    </tr>\n",
       "    <tr>\n",
       "      <th>1</th>\n",
       "      <td>12/03/2021</td>\n",
       "      <td>8.35</td>\n",
       "      <td>89</td>\n",
       "      <td>1.34</td>\n",
       "      <td>Manchester</td>\n",
       "      <td>1591031260181523843</td>\n",
       "    </tr>\n",
       "    <tr>\n",
       "      <th>2</th>\n",
       "      <td>12/03/2021</td>\n",
       "      <td>7.73</td>\n",
       "      <td>91</td>\n",
       "      <td>1.79</td>\n",
       "      <td>Manchester</td>\n",
       "      <td>1199038322449152917</td>\n",
       "    </tr>\n",
       "    <tr>\n",
       "      <th>3</th>\n",
       "      <td>12/03/2021</td>\n",
       "      <td>6.20</td>\n",
       "      <td>91</td>\n",
       "      <td>0.89</td>\n",
       "      <td>Manchester</td>\n",
       "      <td>207526224311454115</td>\n",
       "    </tr>\n",
       "    <tr>\n",
       "      <th>4</th>\n",
       "      <td>12/03/2021</td>\n",
       "      <td>5.41</td>\n",
       "      <td>92</td>\n",
       "      <td>0.45</td>\n",
       "      <td>Manchester</td>\n",
       "      <td>1983025297425536946</td>\n",
       "    </tr>\n",
       "    <tr>\n",
       "      <th>...</th>\n",
       "      <td>...</td>\n",
       "      <td>...</td>\n",
       "      <td>...</td>\n",
       "      <td>...</td>\n",
       "      <td>...</td>\n",
       "      <td>...</td>\n",
       "    </tr>\n",
       "    <tr>\n",
       "      <th>19</th>\n",
       "      <td>11/29/2021</td>\n",
       "      <td>2.56</td>\n",
       "      <td>51</td>\n",
       "      <td>5.66</td>\n",
       "      <td>Concord</td>\n",
       "      <td>507285529635923068</td>\n",
       "    </tr>\n",
       "    <tr>\n",
       "      <th>20</th>\n",
       "      <td>11/29/2021</td>\n",
       "      <td>1.64</td>\n",
       "      <td>56</td>\n",
       "      <td>6.17</td>\n",
       "      <td>Concord</td>\n",
       "      <td>1867733256915726992</td>\n",
       "    </tr>\n",
       "    <tr>\n",
       "      <th>21</th>\n",
       "      <td>11/29/2021</td>\n",
       "      <td>0.57</td>\n",
       "      <td>60</td>\n",
       "      <td>5.66</td>\n",
       "      <td>Concord</td>\n",
       "      <td>530343937737834659</td>\n",
       "    </tr>\n",
       "    <tr>\n",
       "      <th>22</th>\n",
       "      <td>11/29/2021</td>\n",
       "      <td>-0.76</td>\n",
       "      <td>64</td>\n",
       "      <td>3.09</td>\n",
       "      <td>Concord</td>\n",
       "      <td>760928018756882099</td>\n",
       "    </tr>\n",
       "    <tr>\n",
       "      <th>23</th>\n",
       "      <td>11/29/2021</td>\n",
       "      <td>-1.42</td>\n",
       "      <td>63</td>\n",
       "      <td>3.09</td>\n",
       "      <td>Concord</td>\n",
       "      <td>1544914443977448641</td>\n",
       "    </tr>\n",
       "  </tbody>\n",
       "</table>\n",
       "<p>357 rows × 6 columns</p>\n",
       "</div>"
      ],
      "text/plain": [
       "            dt  temp humidity  wind_speed        city                   id\n",
       "0   12/03/2021  8.50       90        0.89  Manchester   899279017124388724\n",
       "1   12/03/2021  8.35       89        1.34  Manchester  1591031260181523843\n",
       "2   12/03/2021  7.73       91        1.79  Manchester  1199038322449152917\n",
       "3   12/03/2021  6.20       91        0.89  Manchester   207526224311454115\n",
       "4   12/03/2021  5.41       92        0.45  Manchester  1983025297425536946\n",
       "..         ...   ...      ...         ...         ...                  ...\n",
       "19  11/29/2021  2.56       51        5.66     Concord   507285529635923068\n",
       "20  11/29/2021  1.64       56        6.17     Concord  1867733256915726992\n",
       "21  11/29/2021  0.57       60        5.66     Concord   530343937737834659\n",
       "22  11/29/2021 -0.76       64        3.09     Concord   760928018756882099\n",
       "23  11/29/2021 -1.42       63        3.09     Concord  1544914443977448641\n",
       "\n",
       "[357 rows x 6 columns]"
      ]
     },
     "execution_count": 7,
     "metadata": {},
     "output_type": "execute_result"
    }
   ],
   "source": [
    "df_big.loc[:, \"temp\"] = df_big[\"temp\"].apply(lambda x: x - 273)\n",
    "df_big.loc[:, \"dt\"] = df_big[\"dt\"].apply(lambda x: datetime.datetime.utcfromtimestamp(x).strftime('%m/%d/%Y'))\n",
    "df_big\n",
    "\n",
    "#datetime.datetime.utcfromtimestamp(posix_time).strftime('%Y-%m-%dT%H:%M:%SZ')"
   ]
  },
  {
   "cell_type": "code",
   "execution_count": 8,
   "metadata": {},
   "outputs": [],
   "source": [
    "#df_big.to_csv(r'/home/anthony/Documents/programing-materals/comp574/DataProject/Export_Clean_Df.csv', index = False, header=True)"
   ]
  },
  {
   "cell_type": "markdown",
   "metadata": {},
   "source": [
    "## This sectoin handles averaging the columbs"
   ]
  },
  {
   "cell_type": "markdown",
   "metadata": {},
   "source": [
    "#### Avearge Temp for all Cities"
   ]
  },
  {
   "cell_type": "code",
   "execution_count": 9,
   "metadata": {},
   "outputs": [
    {
     "data": {
      "text/plain": [
       "city\n",
       "Concord       0.797647\n",
       "Manchester    0.992017\n",
       "keen          0.630756\n",
       "Name: temp, dtype: float64"
      ]
     },
     "execution_count": 9,
     "metadata": {},
     "output_type": "execute_result"
    }
   ],
   "source": [
    "aveage_temp = df_big.groupby('city')['temp'].mean()\n",
    "aveage_temp # this needs to be converted to regular temp"
   ]
  },
  {
   "cell_type": "markdown",
   "metadata": {},
   "source": [
    "#### Avearge Temp variance for all Cities"
   ]
  },
  {
   "cell_type": "code",
   "execution_count": 10,
   "metadata": {},
   "outputs": [
    {
     "data": {
      "text/plain": [
       "city\n",
       "Concord       10.480111\n",
       "Manchester    10.694787\n",
       "keen          13.166283\n",
       "Name: temp, dtype: float64"
      ]
     },
     "execution_count": 10,
     "metadata": {},
     "output_type": "execute_result"
    }
   ],
   "source": [
    "aveage_temp_var = df_big.groupby('city')['temp'].var()\n",
    "aveage_temp_var"
   ]
  },
  {
   "cell_type": "markdown",
   "metadata": {},
   "source": [
    "#### Average humidity for all Cities"
   ]
  },
  {
   "cell_type": "code",
   "execution_count": 11,
   "metadata": {},
   "outputs": [
    {
     "data": {
      "text/plain": [
       "city\n",
       "Concord       75.983193\n",
       "Manchester    74.025210\n",
       "keen          85.504202\n",
       "Name: humidity, dtype: float64"
      ]
     },
     "execution_count": 11,
     "metadata": {},
     "output_type": "execute_result"
    }
   ],
   "source": [
    "average_humidity = df_big.groupby('city')['humidity'].mean()\n",
    "average_humidity"
   ]
  },
  {
   "cell_type": "markdown",
   "metadata": {},
   "source": [
    "#### Average wind speed for all Cities"
   ]
  },
  {
   "cell_type": "code",
   "execution_count": 12,
   "metadata": {},
   "outputs": [
    {
     "data": {
      "text/plain": [
       "city\n",
       "Concord       2.758235\n",
       "Manchester    1.382605\n",
       "keen          3.746050\n",
       "Name: wind_speed, dtype: float64"
      ]
     },
     "execution_count": 12,
     "metadata": {},
     "output_type": "execute_result"
    }
   ],
   "source": [
    "aveage_wind_speed = df_big.groupby('city')['wind_speed'].mean()\n",
    "aveage_wind_speed # This is in MPH already, its just so slow that its under 1 mph"
   ]
  },
  {
   "cell_type": "markdown",
   "metadata": {},
   "source": [
    "#### city mode\n",
    "* This section just proves that all the data comes in equily from all cities and that theres no more data fro one city than anouther"
   ]
  },
  {
   "cell_type": "code",
   "execution_count": 13,
   "metadata": {},
   "outputs": [
    {
     "data": {
      "text/plain": [
       "0       Concord\n",
       "1    Manchester\n",
       "2          keen\n",
       "dtype: object"
      ]
     },
     "execution_count": 13,
     "metadata": {},
     "output_type": "execute_result"
    }
   ],
   "source": [
    "city_mode = df_big['city'].mode()\n",
    "city_mode"
   ]
  },
  {
   "cell_type": "markdown",
   "metadata": {},
   "source": [
    "## Graphing section\n",
    "* thsis section hadles graphing via seborn"
   ]
  },
  {
   "cell_type": "code",
   "execution_count": 14,
   "metadata": {},
   "outputs": [],
   "source": [
    "import seaborn as sns"
   ]
  },
  {
   "cell_type": "markdown",
   "metadata": {},
   "source": [
    "#### Heatmap\n",
    "* this checks to see if any data is corilated in the dataframe"
   ]
  },
  {
   "cell_type": "code",
   "execution_count": 15,
   "metadata": {},
   "outputs": [
    {
     "data": {
      "text/plain": [
       "<AxesSubplot:>"
      ]
     },
     "execution_count": 15,
     "metadata": {},
     "output_type": "execute_result"
    },
    {
     "data": {
      "image/png": "[encoded data removed]",
      "text/plain": [
       "<Figure size 432x288 with 2 Axes>"
      ]
     },
     "metadata": {
      "needs_background": "light"
     },
     "output_type": "display_data"
    }
   ],
   "source": [
    "graphdf = (df_big.drop(['dt', 'city', 'id'], axis=1).copy())\n",
    "\n",
    "corr = graphdf.corr()\n",
    "sns.heatmap(corr)"
   ]
  },
  {
   "cell_type": "markdown",
   "metadata": {},
   "source": [
    "#### This section crops down our df for gaphing in a bar plot"
   ]
  },
  {
   "cell_type": "code",
   "execution_count": 16,
   "metadata": {},
   "outputs": [],
   "source": [
    "bar_graph = (df_big.drop(['dt','id'], axis=1).copy())"
   ]
  },
  {
   "cell_type": "markdown",
   "metadata": {},
   "source": [
    "#### manchester info\n",
    "* this section handles getting the average temp for manchester"
   ]
  },
  {
   "cell_type": "code",
   "execution_count": 17,
   "metadata": {},
   "outputs": [],
   "source": [
    "manchester_bar = bar_graph.where(bar_graph['city'] == 'Manchester')\n",
    "manchester_bar.dropna()\n",
    "mancheser_mean = manchester_bar['temp'].mean()"
   ]
  },
  {
   "cell_type": "markdown",
   "metadata": {},
   "source": [
    "#### Keen info\n",
    "* this section handles getting the average temp for Keen"
   ]
  },
  {
   "cell_type": "code",
   "execution_count": 18,
   "metadata": {},
   "outputs": [],
   "source": [
    "keen_bar = bar_graph.where(bar_graph['city'] == 'keen')\n",
    "keen_bar.dropna()\n",
    "keen_mean = keen_bar['temp'].mean()"
   ]
  },
  {
   "cell_type": "markdown",
   "metadata": {},
   "source": [
    "#### concord info\n",
    "* this section handles getting the average temp for concord"
   ]
  },
  {
   "cell_type": "code",
   "execution_count": 19,
   "metadata": {},
   "outputs": [],
   "source": [
    "Concord_bar = bar_graph.where(bar_graph['city'] == 'Concord')\n",
    "Concord_bar.dropna()\n",
    "Concord_mean = Concord_bar['temp'].mean()"
   ]
  },
  {
   "cell_type": "markdown",
   "metadata": {},
   "source": [
    "#### makeing a graphable df\n",
    "* this section stiches together our averages and city names to make it graphable "
   ]
  },
  {
   "cell_type": "code",
   "execution_count": 20,
   "metadata": {},
   "outputs": [
    {
     "data": {
      "text/plain": [
       "<AxesSubplot:xlabel='city', ylabel='average_temp'>"
      ]
     },
     "execution_count": 20,
     "metadata": {},
     "output_type": "execute_result"
    },
    {
     "data": {
      "image/png": "[encoded data removed]",
      "text/plain": [
       "<Figure size 432x288 with 1 Axes>"
      ]
     },
     "metadata": {
      "needs_background": "light"
     },
     "output_type": "display_data"
    }
   ],
   "source": [
    "data = {'city': ['Manchester', 'keen', 'Concord'], 'average_temp': [mancheser_mean, keen_mean, Concord_mean]}\n",
    "\n",
    "df = pd.DataFrame(data)\n",
    "\n",
    "sns.barplot(x = 'city', y = 'average_temp', data=df)"
   ]
  }
 ],
 "metadata": {
  "interpreter": {
   "hash": "e7370f93d1d0cde622a1f8e1c04877d8463912d04d973331ad4851f04de6915a"
  },
  "kernelspec": {
   "display_name": "Python 3.9.7 64-bit",
   "name": "python3"
  },
  "language_info": {
   "codemirror_mode": {
    "name": "ipython",
    "version": 3
   },
   "file_extension": ".py",
   "mimetype": "text/x-python",
   "name": "python",
   "nbconvert_exporter": "python",
   "pygments_lexer": "ipython3",
   "version": "3.9.7"
  },
  "orig_nbformat": 4
 },
 "nbformat": 4,
 "nbformat_minor": 2
}
