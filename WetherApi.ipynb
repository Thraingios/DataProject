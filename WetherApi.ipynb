{
 "cells": [
  {
   "cell_type": "markdown",
   "metadata": {},
   "source": [
    "## This section starts us off (api query and processing) \n",
    "* This section loops through 5 dates and gets the hrly temp, humidity and wind_speed for 5 days"
   ]
  },
  {
   "cell_type": "code",
   "execution_count": null,
   "metadata": {},
   "outputs": [],
   "source": [
    "'''\n",
    "The new goal of my project is to: calculate the average temp in manchester over the last 5 days and graph it\n",
    "'''\n",
    "# unix time calculator -0> https://www.vultr.com/resources/unix-time-calculator/?convert=date&date_day=27&date_month=10&date_year=2021&date_hour=12&date_minute=00&date_second=00&date_tz_from=UTC&date_tz_to=UTC&date_format=Y-m-d+H%3Ai%3As\n",
    "\n",
    "import requests, json, datetime, pandas as pd\n",
    "\n",
    "df_final = pd.DataFrame(columns=['dt', 'temp', 'humidity', 'wind_speed']) # inititalisation of final dataframe\n",
    "last_5_days = []\n",
    "\n",
    "for x in range(0,5): # gets current date and time delta in unixtime\n",
    "    unix_date_time = (datetime.datetime.today() - datetime.timedelta(x)).strftime(\"%s\") \n",
    "    last_5_days.append(unix_date_time)\n",
    "\n",
    "\n"
   ]
  },
  {
   "cell_type": "markdown",
   "metadata": {},
   "source": [
    "### Manchester dataframe processing\n",
    "\n",
    "* this gets all the data for the city of manchester, condences it to what we care about and puts it in a dataframe"
   ]
  },
  {
   "cell_type": "code",
   "execution_count": null,
   "metadata": {},
   "outputs": [],
   "source": [
    "df_final_manchester = pd.DataFrame(columns=['dt', 'temp', 'humidity', 'wind_speed']) # inititalisation of final dataframe\n",
    "\n",
    "for day in last_5_days: # gets the json from the api, processes it into a df and appends it to the final frame. ownly takes 4 columbs\n",
    "    response_manchester = requests.get(\"http://api.openweathermap.org/data/2.5/onecall/timemachine?lat=42.9956&lon=-71.4548&dt=\"+ day +\"&appid=fd3ef9b217de69f13fde1bd0325da289\")\n",
    "    \n",
    "    processed_responce_manchester = response_manchester.json() # gets json\n",
    "    \n",
    "    df_raw_manchester = pd.DataFrame(processed_responce_manchester['hourly']) # json -> df from the \"hourly\" list\n",
    "    \n",
    "    df_processed_manchester = df_raw_manchester[[\"dt\",\"temp\", \"humidity\", \"wind_speed\"]].copy() # cuts df down to what we want ownly\n",
    "    \n",
    "    df_final_manchester = df_final_manchester.append(df_processed_manchester) # appends to the final df\n",
    "\n",
    "df_final_manchester.insert(loc=len(df_final_manchester.columns), column='city', value='Manchester')\n",
    "\n",
    "df_final_manchester['id'] = df_final_manchester[['dt', 'temp', 'humidity', 'wind_speed',]].sum(axis=1).map(hash)\n",
    "\n",
    "df_final_manchester#.shape "
   ]
  },
  {
   "cell_type": "markdown",
   "metadata": {},
   "source": [
    "### Concord data processing\n",
    "\n",
    "* this gets all the data for the city of concord, condences it to what we care about and puts it in a dataframe"
   ]
  },
  {
   "cell_type": "code",
   "execution_count": null,
   "metadata": {},
   "outputs": [],
   "source": [
    "df_final_concord = pd.DataFrame(columns=['dt', 'temp', 'humidity', 'wind_speed']) # inititalisation of final dataframe\n",
    "\n",
    "for day in last_5_days: # gets the json from the api, processes it into a df and appends it to the final frame. ownly takes 4 columbs\n",
    "    response_concord = requests.get(\"http://api.openweathermap.org/data/2.5/onecall/timemachine?lat=43.2081&lon=-71.5376&dt=\"+ day +\"&appid=fd3ef9b217de69f13fde1bd0325da289\")\n",
    "    \n",
    "    processed_responce_concord = response_concord.json() # gets json\n",
    "    \n",
    "    df_raw_concord = pd.DataFrame(processed_responce_concord['hourly']) # json -> df from the \"hourly\" list\n",
    "    \n",
    "    df_processed_concord = df_raw_concord[[\"dt\",\"temp\", \"humidity\", \"wind_speed\"]].copy() # cuts df down to what we want ownly\n",
    "    \n",
    "    df_final_concord = df_final_concord.append(df_processed_concord) # appends to the final df\n",
    "\n",
    "df_final_concord.insert(loc=len(df_final_concord.columns), column='city', value='Concord')\n",
    "\n",
    "df_final_concord['id'] = df_final_concord[['dt', 'temp', 'humidity', 'wind_speed',]].sum(axis=1).map(hash)\n",
    "\n",
    "df_final_concord #.shape "
   ]
  },
  {
   "cell_type": "markdown",
   "metadata": {},
   "source": [
    "## Keen data processing\n",
    "* this gets all the data for the city of Keen, condences it to what we care about and puts it in a dataframe"
   ]
  },
  {
   "cell_type": "code",
   "execution_count": null,
   "metadata": {},
   "outputs": [],
   "source": [
    "df_final_keen = pd.DataFrame(columns=['dt', 'temp', 'humidity', 'wind_speed']) # inititalisation of final dataframe\n",
    "\n",
    "for day in last_5_days: # gets the json from the api, processes it into a df and appends it to the final frame. ownly takes 4 columbs\n",
    "    response_keen = requests.get(\"http://api.openweathermap.org/data/2.5/onecall/timemachine?lat=41.5929&lon=-75.3738&dt=\"+ day +\"&appid=fd3ef9b217de69f13fde1bd0325da289\")\n",
    "    \n",
    "    processed_responce_keen = response_keen.json() # gets json\n",
    "    \n",
    "    df_raw_keen = pd.DataFrame(processed_responce_keen['hourly']) # json -> df from the \"hourly\" list\n",
    "    \n",
    "    df_processed_keen = df_raw_keen[[\"dt\",\"temp\", \"humidity\", \"wind_speed\"]].copy() # cuts df down to what we want ownly\n",
    "    \n",
    "    df_final_keen = df_final_keen.append(df_processed_keen) # appends to the final df\n",
    "\n",
    "df_final_keen.insert(loc=len(df_final_keen.columns), column='city', value='keen')\n",
    "\n",
    "#df_final_keen['id'].apply(lambda x : df_final_keen[x] = hash)\n",
    "\n",
    "#df['a'] = df['a'].apply(lambda x: x + 1)\n",
    "\n",
    "df_final_keen['id'] = df_final_keen[['dt', 'temp', 'humidity', 'wind_speed',]].sum(axis=1).map(hash)\n",
    "\n",
    "\n",
    "\n",
    "df_final_keen #.shape"
   ]
  },
  {
   "cell_type": "markdown",
   "metadata": {},
   "source": [
    "## Merge the 3 newly ceated data frames\n",
    "* This section uses a concat() to mreg the 3 newly made dataframes because all the columbs are the same"
   ]
  },
  {
   "cell_type": "code",
   "execution_count": null,
   "metadata": {},
   "outputs": [],
   "source": [
    "df_big = pd.concat([df_final_manchester, df_final_keen, df_final_concord], axis=0)\n",
    "df_big"
   ]
  },
  {
   "cell_type": "markdown",
   "metadata": {},
   "source": [
    "## CSV producuction\n",
    "* thats it, its just a csv file"
   ]
  },
  {
   "cell_type": "code",
   "execution_count": null,
   "metadata": {},
   "outputs": [],
   "source": [
    "df_big.to_csv(r'/home/anthony/Documents/programing-materals/comp574/DataProject/export_dataframe.csv', index = False, header=True)"
   ]
  },
  {
   "cell_type": "markdown",
   "metadata": {},
   "source": [
    "## Convert's to ferinheight\n",
    "* This section take's our concatinated df and converts everything to readable format (ferinheight)\n",
    "* This also converts our unix timestamp to a readable date format"
   ]
  },
  {
   "cell_type": "code",
   "execution_count": null,
   "metadata": {},
   "outputs": [],
   "source": [
    "df_big.loc[:, \"temp\"] = df_big[\"temp\"].apply(lambda x: x - 273)\n",
    "df_big.loc[:, \"dt\"] = df_big[\"dt\"].apply(lambda x: datetime.datetime.utcfromtimestamp(x).strftime('%m/%d/%Y'))\n",
    "df_big\n",
    "\n",
    "#datetime.datetime.utcfromtimestamp(posix_time).strftime('%Y-%m-%dT%H:%M:%SZ')"
   ]
  },
  {
   "cell_type": "markdown",
   "metadata": {},
   "source": [
    "## This sectoin handles averaging the columbs"
   ]
  },
  {
   "cell_type": "markdown",
   "metadata": {},
   "source": [
    "#### Avearge Temp for all Cities"
   ]
  },
  {
   "cell_type": "code",
   "execution_count": null,
   "metadata": {},
   "outputs": [],
   "source": [
    "aveage_temp = df_big.groupby('city')['temp'].mean()\n",
    "aveage_temp # this needs to be converted to regular temp"
   ]
  },
  {
   "cell_type": "markdown",
   "metadata": {},
   "source": [
    "#### Avearge Temp variance for all Cities"
   ]
  },
  {
   "cell_type": "code",
   "execution_count": null,
   "metadata": {},
   "outputs": [],
   "source": [
    "aveage_temp_var = df_big.groupby('city')['temp'].var()\n",
    "aveage_temp_var"
   ]
  },
  {
   "cell_type": "markdown",
   "metadata": {},
   "source": [
    "#### Average humidity for all Cities"
   ]
  },
  {
   "cell_type": "code",
   "execution_count": null,
   "metadata": {},
   "outputs": [],
   "source": [
    "average_humidity = df_big.groupby('city')['humidity'].mean()\n",
    "average_humidity"
   ]
  },
  {
   "cell_type": "markdown",
   "metadata": {},
   "source": [
    "#### Average wind speed for all Cities"
   ]
  },
  {
   "cell_type": "code",
   "execution_count": null,
   "metadata": {},
   "outputs": [],
   "source": [
    "aveage_wind_speed = df_big.groupby('city')['wind_speed'].mean()\n",
    "aveage_wind_speed # This is in MPH already, its just so slow that its under 1 mph"
   ]
  },
  {
   "cell_type": "markdown",
   "metadata": {},
   "source": [
    "#### city mode\n",
    "* This section just proves that all the data comes in equily from all cities and that theres no more data fro one city than anouther"
   ]
  },
  {
   "cell_type": "code",
   "execution_count": null,
   "metadata": {},
   "outputs": [],
   "source": [
    "city_mode = df_big['city'].mode()\n",
    "city_mode"
   ]
  },
  {
   "cell_type": "markdown",
   "metadata": {},
   "source": [
    "## Graphing section\n",
    "* thsis section hadles graphing via seborn"
   ]
  },
  {
   "cell_type": "code",
   "execution_count": null,
   "metadata": {},
   "outputs": [],
   "source": [
    "import seaborn as sns"
   ]
  },
  {
   "cell_type": "markdown",
   "metadata": {},
   "source": [
    "#### Heatmap\n",
    "* this checks to see if any data is corilated in the dataframe"
   ]
  },
  {
   "cell_type": "code",
   "execution_count": null,
   "metadata": {},
   "outputs": [],
   "source": [
    "graphdf = (df_big.drop(['dt', 'city', 'id'], axis=1).copy())\n",
    "\n",
    "corr = graphdf.corr()\n",
    "sns.heatmap(corr)"
   ]
  },
  {
   "cell_type": "markdown",
   "metadata": {},
   "source": [
    "#### This section crops down our df for gaphing in a bar plot"
   ]
  },
  {
   "cell_type": "code",
   "execution_count": null,
   "metadata": {},
   "outputs": [],
   "source": [
    "bar_graph = (df_big.drop(['dt','id'], axis=1).copy())"
   ]
  },
  {
   "cell_type": "markdown",
   "metadata": {},
   "source": [
    "#### manchester info\n",
    "* this section handles getting the average temp for manchester"
   ]
  },
  {
   "cell_type": "code",
   "execution_count": null,
   "metadata": {},
   "outputs": [],
   "source": [
    "manchester_bar = bar_graph.where(bar_graph['city'] == 'Manchester')\n",
    "manchester_bar.dropna()\n",
    "mancheser_mean = manchester_bar['temp'].mean()"
   ]
  },
  {
   "cell_type": "markdown",
   "metadata": {},
   "source": [
    "#### Keen info\n",
    "* this section handles getting the average temp for Keen"
   ]
  },
  {
   "cell_type": "markdown",
   "metadata": {},
   "source": [
    "keen_bar = bar_graph.where(bar_graph['city'] == 'keen')\n",
    "keen_bar.dropna()\n",
    "keen_mean = keen_bar['temp'].mean()"
   ]
  },
  {
   "cell_type": "markdown",
   "metadata": {},
   "source": [
    "#### concord info\n",
    "* this section handles getting the average temp for concord"
   ]
  },
  {
   "cell_type": "code",
   "execution_count": null,
   "metadata": {},
   "outputs": [],
   "source": [
    "Concord_bar = bar_graph.where(bar_graph['city'] == 'Concord')\n",
    "Concord_bar.dropna()\n",
    "Concord_mean = Concord_bar['temp'].mean()"
   ]
  },
  {
   "cell_type": "markdown",
   "metadata": {},
   "source": [
    "#### makeing a graphable df\n",
    "* this section stiches together our averages and city names to make it graphable "
   ]
  },
  {
   "cell_type": "code",
   "execution_count": null,
   "metadata": {},
   "outputs": [],
   "source": [
    "data = {'city': ['Manchester', 'keen', 'Concord'], 'average_temp': [mancheser_mean, keen_mean, Concord_mean]}\n",
    "\n",
    "df = pd.DataFrame(data)\n",
    "\n",
    "sns.barplot(x = 'city', y = 'average_temp', data=df)"
   ]
  }
 ],
 "metadata": {
  "interpreter": {
   "hash": "e7370f93d1d0cde622a1f8e1c04877d8463912d04d973331ad4851f04de6915a"
  },
  "kernelspec": {
   "display_name": "Python 3.9.7 64-bit",
   "name": "python3"
  },
  "language_info": {
   "codemirror_mode": {
    "name": "ipython",
    "version": 3
   },
   "file_extension": ".py",
   "mimetype": "text/x-python",
   "name": "python",
   "nbconvert_exporter": "python",
   "pygments_lexer": "ipython3",
   "version": "3.9.7"
  },
  "orig_nbformat": 4
 },
 "nbformat": 4,
 "nbformat_minor": 2
}
